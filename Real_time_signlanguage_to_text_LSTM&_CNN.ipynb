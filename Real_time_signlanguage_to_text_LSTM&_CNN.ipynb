{
  "cells": [
    {
      "cell_type": "markdown",
      "metadata": {
        "id": "osIfcVGXemsj"
      },
      "source": [
        "## Instal packages"
      ]
    },
    {
      "cell_type": "code",
      "execution_count": null,
      "metadata": {
        "colab": {
          "base_uri": "https://localhost:8080/"
        },
        "id": "Xrl3GhXapdzJ",
        "outputId": "5b155634-a9a0-4149-9318-b7fd277e8798"
      },
      "outputs": [
        {
          "output_type": "stream",
          "name": "stdout",
          "text": [
            "Reading package lists... Done\n",
            "Building dependency tree... Done\n",
            "Reading state information... Done\n",
            "The following NEW packages will be installed:\n",
            "  tree\n",
            "0 upgraded, 1 newly installed, 0 to remove and 45 not upgraded.\n",
            "Need to get 47.9 kB of archives.\n",
            "After this operation, 116 kB of additional disk space will be used.\n",
            "Get:1 http://archive.ubuntu.com/ubuntu jammy/universe amd64 tree amd64 2.0.2-1 [47.9 kB]\n",
            "Fetched 47.9 kB in 1s (46.2 kB/s)\n",
            "Selecting previously unselected package tree.\n",
            "(Reading database ... 121918 files and directories currently installed.)\n",
            "Preparing to unpack .../tree_2.0.2-1_amd64.deb ...\n",
            "Unpacking tree (2.0.2-1) ...\n",
            "Setting up tree (2.0.2-1) ...\n",
            "Processing triggers for man-db (2.10.2-1) ...\n"
          ]
        }
      ],
      "source": [
        "!apt-get install tree"
      ]
    },
    {
      "cell_type": "code",
      "execution_count": null,
      "metadata": {
        "id": "kZMBMFjyxzK8"
      },
      "outputs": [],
      "source": [
        "! mkdir ~/.kaggle/"
      ]
    },
    {
      "cell_type": "code",
      "execution_count": null,
      "metadata": {
        "id": "Wir8SeTVyLYB"
      },
      "outputs": [],
      "source": [
        "! cp '/content/drive/MyDrive/kaggle/kaggle.json' ~/.kaggle/ && chmod 600 ~/.kaggle/kaggle.json"
      ]
    },
    {
      "cell_type": "code",
      "execution_count": null,
      "metadata": {
        "colab": {
          "base_uri": "https://localhost:8080/"
        },
        "id": "JRV2Mn0QzC6i",
        "outputId": "9760d3f8-4571-4739-8c2f-d990a7c6e94b"
      },
      "outputs": [
        {
          "name": "stdout",
          "output_type": "stream",
          "text": [
            "Warning: Looks like you're using an outdated API Version, please consider updating (server 1.6.14 / client 1.6.12)\n",
            "ref                                                            title                                           size  lastUpdated          downloadCount  voteCount  usabilityRating  \n",
            "-------------------------------------------------------------  ---------------------------------------------  -----  -------------------  -------------  ---------  ---------------  \n",
            "rahulvyasm/netflix-movies-and-tv-shows                         Netflix Movies and TV Shows                      1MB  2024-04-10 09:48:38          21763        477  1.0              \n",
            "jainaru/world-happiness-report-2024-yearly-updated             World Happiness Report- 2024                    62KB  2024-05-15 19:04:34           1902         36  1.0              \n",
            "sahirmaharajj/school-student-daily-attendance                  School Student Daily Attendance                  2MB  2024-04-29 19:29:56           5768        118  1.0              \n",
            "jainaru/thyroid-disease-data                                   Thyroid Disease Data                             3KB  2024-05-10 12:06:31           2234         57  1.0              \n",
            "lakshayjain611/f1-races-results-dataset-1950-to-2024           F1 Races Results dataset 1950 to 2024           52KB  2024-05-16 11:07:56            663         22  1.0              \n",
            "sahirmaharajj/college-exam-results-sat                         College Exam Results (SAT)                      10KB  2024-05-06 14:37:56           2927         50  1.0              \n",
            "raminhuseyn/airline-customer-satisfaction                      Airline Customer Satisfaction                    2MB  2024-05-06 19:05:14           1469         29  1.0              \n",
            "keremabdullahoglu/laptop-price-dataset-april-2024              Laptop Price Dataset April 2024                243KB  2024-05-18 11:28:48            974         32  1.0              \n",
            "mexwell/heart-disease-dataset                                  🫀 Heart Disease Dataset                        399KB  2024-04-08 09:43:49           9922        151  1.0              \n",
            "chopper53/data-engineer-salary-in-2024                         Data Engineer Salary in 2024                   108KB  2024-04-24 20:23:25           2739         57  1.0              \n",
            "daniilkrasnoproshin/alzheimers-disease-and-healthy-aging-data  Alzheimer's Disease and Healthy Aging Data      10MB  2024-05-14 07:59:01            433         69  1.0              \n",
            "willianoliveiragibin/death-alzheimers                          Death  Alzheimer's                              39KB  2024-05-16 22:32:26            601         28  1.0              \n",
            "edmund24/netflix-movie-and-tv-show-information-dataset         Netflix Movie and TV Show Information Dataset   13KB  2024-05-14 00:43:52            646         22  0.7058824        \n",
            "ehababoelnaga/anemia-types-classification                      Anemia Types Classification                     22KB  2024-05-12 21:30:09            765         31  0.9411765        \n",
            "prishasawhney/mushroom-dataset                                 Mushroom Dataset (Binary Classification)       602KB  2024-04-18 19:56:44           4406        126  1.0              \n",
            "chopper53/machine-learning-engineer-salary-in-2024             Machine Learning Engineer Salary in 2024       107KB  2024-04-23 17:30:13           3621         62  1.0              \n",
            "juanmerinobermejo/smartphones-price-dataset                    Smartphones Price Dataset                       27KB  2024-04-18 17:24:55           3038         55  1.0              \n",
            "varshitanalluri/crop-recommendation-dataset                    Crop Recommendation Dataset                     62KB  2024-05-03 20:14:25            854         24  1.0              \n",
            "ashishkumarak/netflix-reviews-playstore-daily-updated          Netflix Reviews [DAILY UPDATED]                 12MB  2024-05-20 23:16:32           1526         42  1.0              \n",
            "aadarshvelu/aids-virus-infection-prediction                    AIDS Virus Infection Prediction 💉                2MB  2024-04-28 03:22:18           3390         75  1.0              \n"
          ]
        }
      ],
      "source": [
        "! kaggle datasets list"
      ]
    },
    {
      "cell_type": "code",
      "execution_count": null,
      "metadata": {
        "id": "1MIMocaszImN"
      },
      "outputs": [],
      "source": [
        "#https://www.kaggle.com/datasets/sttaseen/wlasl2000-resized"
      ]
    },
    {
      "cell_type": "code",
      "execution_count": null,
      "metadata": {
        "colab": {
          "base_uri": "https://localhost:8080/"
        },
        "id": "tLL8sJdvzUgi",
        "outputId": "3f5f4da3-0cd9-4c4c-f382-0f5ee95af830"
      },
      "outputs": [
        {
          "name": "stdout",
          "output_type": "stream",
          "text": [
            "Warning: Looks like you're using an outdated API Version, please consider updating (server 1.6.14 / client 1.6.12)\n",
            "Dataset URL: https://www.kaggle.com/datasets/sttaseen/wlasl2000-resized\n",
            "License(s): other\n",
            "Downloading wlasl2000-resized.zip to /content\n",
            "100% 1.87G/1.87G [00:30<00:00, 76.5MB/s]\n",
            "100% 1.87G/1.87G [00:30<00:00, 65.1MB/s]\n"
          ]
        }
      ],
      "source": [
        "! kaggle datasets download -d sttaseen/wlasl2000-resized"
      ]
    },
    {
      "cell_type": "markdown",
      "metadata": {
        "id": "NZGJ7l_LeitR"
      },
      "source": [
        "# Packages: Import"
      ]
    },
    {
      "cell_type": "markdown",
      "metadata": {
        "id": "q6DFfa6peq6q"
      },
      "source": [
        "## Import"
      ]
    },
    {
      "cell_type": "code",
      "execution_count": 2,
      "metadata": {
        "id": "NkYEgR9HewVU",
        "colab": {
          "base_uri": "https://localhost:8080/"
        },
        "outputId": "ccec35b3-3d2c-433e-b2be-eace0025a278"
      },
      "outputs": [
        {
          "output_type": "stream",
          "name": "stdout",
          "text": [
            "\u001b[2K     \u001b[90m━━━━━━━━━━━━━━━━━━━━━━━━━━━━━━━━━━━━━━━━\u001b[0m \u001b[32m35.7/35.7 MB\u001b[0m \u001b[31m42.1 MB/s\u001b[0m eta \u001b[36m0:00:00\u001b[0m\n",
            "\u001b[2K     \u001b[90m━━━━━━━━━━━━━━━━━━━━━━━━━━━━━━━━━━━━━━━━\u001b[0m \u001b[32m294.6/294.6 kB\u001b[0m \u001b[31m22.9 MB/s\u001b[0m eta \u001b[36m0:00:00\u001b[0m\n",
            "\u001b[?25h\u001b[31mERROR: pip's dependency resolver does not currently take into account all the packages that are installed. This behaviour is the source of the following dependency conflicts.\n",
            "tensorflow-metadata 1.15.0 requires protobuf<4.21,>=3.20.3; python_version < \"3.11\", but you have protobuf 4.25.3 which is incompatible.\u001b[0m\u001b[31m\n",
            "\u001b[0m"
          ]
        }
      ],
      "source": [
        "!pip install -q mediapipe kaggle"
      ]
    },
    {
      "cell_type": "code",
      "execution_count": 3,
      "metadata": {
        "id": "lHttJBogeu6P"
      },
      "outputs": [],
      "source": [
        "import tensorflow as tf\n",
        "import zipfile\n",
        "import cv2\n",
        "import matplotlib.pyplot as plt\n",
        "import numpy as np\n",
        "import matplotlib.pyplot as plt\n",
        "import pandas as pd\n",
        "import mediapipe as mp\n",
        "import json, os\n",
        "import os, shutil\n",
        "import glob\n",
        "import h5py"
      ]
    },
    {
      "cell_type": "code",
      "source": [
        "from tensorflow.keras.layers import LSTM, Masking, Dense\n",
        "from tensorflow.keras.optimizers import RMSprop\n",
        "from tensorflow.keras.models import Sequential\n",
        "from sklearn.preprocessing import LabelEncoder, OneHotEncoder"
      ],
      "metadata": {
        "id": "USXV_zyZFqDh"
      },
      "execution_count": 4,
      "outputs": []
    },
    {
      "cell_type": "code",
      "source": [
        "print(tf.__version__)"
      ],
      "metadata": {
        "colab": {
          "base_uri": "https://localhost:8080/"
        },
        "id": "vRF1fq1_Qrw_",
        "outputId": "a6d47f91-77d2-4185-d312-9b98822b725b"
      },
      "execution_count": 7,
      "outputs": [
        {
          "output_type": "stream",
          "name": "stdout",
          "text": [
            "2.15.0\n"
          ]
        }
      ]
    },
    {
      "cell_type": "code",
      "execution_count": 5,
      "metadata": {
        "id": "GwvhOPXn1P5k"
      },
      "outputs": [],
      "source": [
        "workdir = \"/content/drive/MyDrive/Tensorflow dev/real_time_sign_language\"\n",
        "os.chdir(workdir)"
      ]
    },
    {
      "cell_type": "code",
      "execution_count": 6,
      "metadata": {
        "colab": {
          "base_uri": "https://localhost:8080/"
        },
        "id": "fSH2BJzonUDx",
        "outputId": "79c98225-4c34-41b6-b39c-4642fc695e4b"
      },
      "outputs": [
        {
          "output_type": "stream",
          "name": "stdout",
          "text": [
            " 0.npy                                                          'ViT SegFormer.ipynb'\n",
            " output_video.mp4                                                wlasl2000-resized.zip\n",
            " real_time_sign_language_to_text.ipynb                           \u001b[0m\u001b[01;34mwlasl-complete\u001b[0m/\n",
            "'Real_time_signlanguage_to_text LSTM& CNN.ipynb'                 WLASL_v0.3.json\n",
            " sign_model.h5                                                   WLASL_v0.3.json.zip\n",
            " \u001b[01;34mvideo_data\u001b[0m/                                                     word_classes.txt\n",
            "'Visual Transformers Real Time SIgn language Translator.ipynb'\n"
          ]
        }
      ],
      "source": [
        "ls"
      ]
    },
    {
      "cell_type": "markdown",
      "metadata": {
        "id": "500xAjB-d8y4"
      },
      "source": [
        "# Load and create the dataset folder"
      ]
    },
    {
      "cell_type": "code",
      "execution_count": null,
      "metadata": {
        "id": "P6f-OACOehjE"
      },
      "outputs": [],
      "source": [
        "zip = zipfile.ZipFile(\"WLASL_v0.3.json.zip\")\n",
        "zip.extractall()\n",
        "zip.close()"
      ]
    },
    {
      "cell_type": "code",
      "execution_count": null,
      "metadata": {
        "id": "ID3KKnSs0hu5"
      },
      "outputs": [],
      "source": [
        "zip = zipfile.ZipFile(\"wlasl2000-resized.zip\")\n",
        "zip.extractall()\n",
        "zip.close()"
      ]
    },
    {
      "cell_type": "code",
      "execution_count": 8,
      "metadata": {
        "colab": {
          "base_uri": "https://localhost:8080/"
        },
        "id": "7CANUx2QiTt8",
        "outputId": "af8175f7-7173-4a98-99a4-29a9692099bd"
      },
      "outputs": [
        {
          "output_type": "stream",
          "name": "stderr",
          "text": [
            "IOPub data rate exceeded.\n",
            "The notebook server will temporarily stop sending output\n",
            "to the client in order to avoid crashing it.\n",
            "To change this limit, set the config variable\n",
            "`--NotebookApp.iopub_data_rate_limit`.\n",
            "\n",
            "Current values:\n",
            "NotebookApp.iopub_data_rate_limit=1000000.0 (bytes/sec)\n",
            "NotebookApp.rate_limit_window=3.0 (secs)\n",
            "\n"
          ]
        }
      ],
      "source": [
        "\n",
        "\n",
        "with open(\"WLASL_v0.3.json\", \"r\") as f:\n",
        "  json_data = json.load(f)\n",
        "print(json_data)"
      ]
    },
    {
      "cell_type": "code",
      "execution_count": null,
      "metadata": {
        "colab": {
          "base_uri": "https://localhost:8080/"
        },
        "id": "iTGSrkNMoPnq",
        "outputId": "0b19fab9-f150-4870-b48b-884ac369b3f9"
      },
      "outputs": [
        {
          "name": "stdout",
          "output_type": "stream",
          "text": [
            "\u001b[01;34mwlasl-complete/\u001b[0m\n",
            "├── \u001b[00mfind_missing.py\u001b[0m\n",
            "├── \u001b[00mmissing.txt\u001b[0m\n",
            "├── \u001b[00mnslt_1000.json\u001b[0m\n",
            "├── \u001b[00mnslt_100.json\u001b[0m\n",
            "├── \u001b[00mnslt_2000.json\u001b[0m\n",
            "├── \u001b[00mnslt_300.json\u001b[0m\n",
            "^C\n"
          ]
        }
      ],
      "source": [
        "!tree  wlasl-complete/"
      ]
    },
    {
      "cell_type": "code",
      "execution_count": 9,
      "metadata": {
        "id": "rsgSaFY4tfzI"
      },
      "outputs": [],
      "source": [
        "sign_video_data_dir =\"video_data\"\n",
        "train_dir =os.path.join(sign_video_data_dir, \"train\")\n",
        "val_dir =os.path.join(sign_video_data_dir, \"val\")\n",
        "test_dir = os.path.join(sign_video_data_dir, \"test\")\n"
      ]
    },
    {
      "cell_type": "code",
      "execution_count": 32,
      "metadata": {
        "colab": {
          "base_uri": "https://localhost:8080/"
        },
        "id": "TRJugV06kYwe",
        "outputId": "be844d88-fac1-4636-81b8-3dd9e49a1439"
      },
      "outputs": [
        {
          "output_type": "stream",
          "name": "stdout",
          "text": [
            "['book', 'drink', 'computer', 'before', 'chair', 'go', 'clothes', 'who', 'candy', 'cousin', 'deaf', 'fine', 'help', 'no', 'thin', 'walk', 'year', 'yes', 'all', 'black', 'cool', 'finish', 'hot', 'like', 'many', 'mother', 'now', 'orange', 'table', 'thanksgiving', 'what', 'woman', 'bed', 'blue', 'bowling', 'can', 'dog', 'family', 'fish', 'graduate', 'hat', 'hearing', 'kiss', 'language', 'later', 'man', 'shirt', 'study', 'tall', 'white', 'wrong', 'accident', 'apple', 'bird', 'change', 'color', 'corn', 'cow', 'dance', 'dark', 'doctor', 'eat', 'enjoy', 'forget', 'give', 'last', 'meet', 'pink', 'pizza', 'play', 'school', 'secretary', 'short', 'time', 'want', 'work', 'africa', 'basketball', 'birthday', 'brown', 'but', 'cheat', 'city', 'cook', 'decide', 'full', 'how', 'jacket', 'letter', 'medicine', 'need', 'paint', 'paper', 'pull', 'purple', 'right', 'same', 'son', 'tell', 'thursday', 'visit', 'wait', 'water', 'wife', 'yellow', 'backpack', 'bar', 'brother', 'cat', 'check', 'class', 'cry', 'different', 'door', 'green', 'hair', 'have', 'headache', 'inform', 'knife', 'laugh', 'learn', 'movie', 'rabbit', 'read', 'red', 'room', 'run', 'show', 'sick', 'snow', 'take', 'tea', 'teacher', 'week', 'why', 'with', 'write', 'yesterday', 'again', 'bad', 'ball', 'bathroom', 'blanket', 'buy', 'call', 'coffee', 'cold', 'college', 'copy', 'cute', 'daughter', 'example', 'far', 'first', 'friend', 'good', 'happy', 'home', 'know', 'late', 'leave', 'list', 'losear', 'name', 'old', 'person', 'police', 'problem', 'remember', 'share', 'soon', 'stay', 'sunday', 'test', 'tired', 'trade', 'travel', 'window', 'you', 'about', 'approve', 'arrive', 'balance', 'banana', 'beard', 'because', 'boy', 'business', 'careful', 'center', 'chat', 'children', 'christmas', 'clock', 'close', 'convince', 'country', 'crash', 'day', 'discuss', 'dress', 'drive', 'drop', 'fat', 'feel', 'football', 'future', 'game', 'girl', 'government', 'hear', 'here', 'hope', 'house', 'husband', 'interest', 'join', 'light', 'live', 'make', 'mean', 'more', 'most', 'music', 'new', 'none', 'office', 'order', 'pants', 'party', 'past', 'pencil', 'plan', 'please', 'practice', 'president', 'restaurant', 'ride', 'russia', 'salt', 'sandwich', 'sign', 'since', 'small', 'some', 'south', 'student', 'teach', 'theory', 'tomato', 'train', 'ugly', 'war', 'where', 'your', 'always', 'animal', 'argue', 'baby', 'back', 'bake', 'bath', 'behind', 'bring', 'catch', 'cereal', 'champion', 'cheese', 'cough', 'crazy', 'delay', 'delicious', 'disappear', 'divorce', 'draw', 'east', 'easy', 'egg', 'environment', 'father', 'fault', 'flower', 'friendly', 'glasses', 'halloween', 'hard', 'heart', 'hour', 'humble', 'hurry', 'improve', 'internet', 'jump', 'kill', 'law', 'match', 'meat', 'milk', 'money', 'month', 'moon', 'move', 'near', 'nephew', 'nice', 'niece', 'noon', 'north', 'not', 'nurse', 'off', 'ok', 'patient', 'pay', 'perspective', 'potato', 'sad', 'saturday', 'save', 'scissors', 'secret', 'shoes', 'shop', 'silly', 'sister', 'sleep', 'sorry', 'straight', 'sweet', 'talk', 'temperature', 'tent', 'thank you', 'think', 'throw', 'today', 'traffic', 'understand', 'use', 'voice', 'vomit', 'vote', 'wednesday', 'west', 'wet', 'when', 'which', 'win', 'word', 'afternoon', 'age', 'alone', 'appointment', 'australia', 'avoid', 'balloon', 'basement', 'bear', 'believe', 'better', 'blind', 'bored', 'bowl', 'box', 'bracelet', 'bread', 'cafeteria', 'car', 'chicken', 'child', 'choose', 'church', 'cookie', 'cup', 'cut', 'decorate', 'deep', 'deer', 'dentist', 'dirty', 'dive', 'down', 'dry', 'ear', 'earn', 'earring', 'elephant', 'english', 'escape', 'expensive', 'explain', 'fast', 'fight', 'find', 'fishing', 'floor', 'fly', 'follow', 'from', 'get', 'happen', 'hello', 'hit', 'hospital', 'idea', 'important', 'investigate', 'japan', 'jealous', 'king', 'kitchen', 'large', 'last year', 'lemon', 'lettuce', 'marry', 'meeting', 'minute', 'mirror', 'miss', 'monkey', 'morning', 'motorcycle', 'necklace', 'never', 'newspaper', 'night', 'onion', 'people', 'pepper', 'phone', 'picture', 'plus', 'point', 'poor', 'possible', 'quiet', 'rain', 'ready', 'research', 'scared', 'science', 'score', 'sentence', 'shape', 'sit', 'slow', 'snake', 'soap', 'soda', 'speech', 'star', 'stink', 'struggle', 'stubborn', 'sunset', 'surgery', 'there', 'tiger', 'toast', 'toilet', 'tomorrow', 'town', 'transfer', 'tree', 'truck', 'uncle', 'vacation', 'weather', 'weekend', 'accept', 'adult', 'after', 'ago', 'allow', 'america', 'angel', 'answer', 'any', 'area', 'art', 'asl', 'aunt', 'awful', 'awkward', 'bacon', 'bark', 'bedroom', 'beer', 'belt', 'big', 'bitter', 'both', 'cake', 'california', 'canada', 'carrot', 'cause', 'challenge', 'cheap', 'chocolate', 'clean', 'cloud', 'compare', 'complex', 'contact', 'continue', 'corner', 'correct', 'curse', 'dead', 'demand', 'depend', 'desert', 'desk', 'develop', 'dictionary', 'doll', 'duty', 'easter', 'egypt', 'elevator', 'email', 'end', 'enter', 'europe', 'event', 'exchange', 'experience', 'face', 'fail', 'feed', 'few', 'flag', 'food', 'for', 'form', 'freeze', 'friday', 'front', 'giraffe', 'god', 'grammar', 'grandfather', 'great', 'greece', 'guess', 'guitar', 'hammer', 'helicopter', 'high', 'history', 'hungry', 'hurt', 'introduce', 'invest', 'lazy', 'library', 'lie', 'lobster', 'love', 'lucky', 'magazine', 'measure', 'microwave', 'my', 'neighbor', 'number', 'one', 'outside', 'peach', 'pig', 'polite', 'postpone', 'power', 'present', 'price', 'prison', 'push', 'raccoon', 'really', 'reason', 'religion', 'respect', 'rule', 'salad', 'schedule', 'sell', 'serious', 'shower', 'single', 'smart', 'smile', 'soft', 'sound', 'soup', 'spain', 'spray', 'squirrel', 'stomach', 'story', 'strange', 'street', 'stress', 'strict', 'strong', 'sugar', 'summer', 'suspect', 'sweetheart', 'tease', 'that', 'themselves', 'therapy', 'thirsty', 'ticket', 'top', 'tuesday', 'turkey', 'university', 'until', 'watch', 'weak', 'wedding', 'will', 'wind', 'world', 'worry', 'wow', 'young', 'add', 'airplane', 'already', 'also', 'analyze', 'and', 'angry', 'appear', 'arm', 'army', 'arrest', 'asia', 'ask', 'attitude', 'attract', 'bald', 'barely', 'baseball', 'beg', 'benefit', 'bite', 'blame', 'boat', 'body', 'borrow', 'boss', 'bother', 'bottle', 'bottom', 'brag', 'build', 'bus', 'butter', 'calm', 'cancel', 'candle', 'cards', 'choice', 'comb', 'comfortable', 'conflict', 'cover', 'deodorant', 'dessert', 'destroy', 'diamond', 'dollar', 'drawer', 'dream', 'drunk', 'duck', 'during', 'eagle', 'early', 'equal', 'every', 'excited', 'exercise', 'experiment', 'expert', 'fact', 'fear', 'feedback', 'fold', 'forest', 'france', 'frog', 'funny', 'garage', 'goal', 'golf', 'gone', 'gossip', 'grandmother', 'grapes', 'group', 'guilty', 'hamburger', 'hate', 'head', 'her', 'horse', 'ignore', 'impossible', 'in', 'independent', 'inside', 'insurance', 'island', 'lecture', 'lesson', 'limit', 'lion', 'listen', 'march', 'math', 'maybe', 'mechanic', 'mom', 'mouse', 'much', 'muscle', 'museum', 'must', 'mustache', 'negative', 'nervous', 'neutral', 'nose', 'often', 'operate', 'opinion', 'other', 'pass', 'pillow', 'prepare', 'pretty', 'priest', 'program', 'promise', 'put', 'queen', 'quit', 'radio', 'rat', 'reject', 'require', 'rest', 'retire', 'rise', 'river', 'rough', 'see', 'seem', 'send', 'sew', 'sheep', 'shine', 'shock', 'should', 'silent', 'skinny', 'skirt', 'sky', 'sour', 'special', 'spirit', 'staff', 'stand', 'steal', 'stop', 'stupid', 'summon', 'sunrise', 'swallow', 'television', 'to', 'together', 'translate', 'triangle', 'turtle', 'underwear', 'up', 'upset', 'violin', 'volunteer', 'warm', 'warn', 'wash', 'wine', 'witness', 'wood', 'zero', 'across', 'actor', 'agree', 'alarm', 'allergy', 'almost', 'announce', 'apartment', 'attention', 'audience', 'august', 'autumn', 'away', 'beautiful', 'become', 'below', 'best', 'bet', 'bicycle', 'biology', 'boyfriend', 'break', 'bridge', 'brush', 'building', 'busy', 'camera', 'camp', 'caption', 'care', 'carry', 'celebrate', 'certificate', 'chain', 'chance', 'character', 'chase', 'classroom', 'clear', 'climb', 'command', 'community', 'complain', 'compromise', 'contribute', 'cop', 'cost', 'couch', 'cracker', 'curious', 'curriculum', 'dad', 'deny', 'describe', 'diaper', 'diarrhea', 'disagree', 'dissolve', 'divide', 'dolphin', 'double', 'doubt', 'dumb', 'earth', 'earthquake', 'eight', 'embarrass', 'emotion', 'encourage', 'energy', 'enough', 'evaluate', 'evidence', 'exact', 'exaggerate', 'expect', 'fancy', 'favorite', 'finally', 'fox', 'french', 'fruit', 'function', 'gather', 'germany', 'gloves', 'goat', 'goodbye', 'grow', 'gum', 'half', 'hawaii', 'herself', 'highway', 'homework', 'honor', 'ice cream', 'if', 'increase', 'india', 'information', 'interpret', 'interview', 'invite', 'israel', 'jesus', 'keep', 'keyboard', 'land', 'lawyer', 'lead', 'lesbian', 'line', 'lock', 'loud', 'lousy', 'lunch', 'machine', 'mad', 'memorize', 'minus', 'monday', 'mountain', 'mouth', 'mushroom', 'napkin', 'neck', 'next', 'ocean', 'open', 'overwhelm', 'owe', 'page', 'pain', 'parade', 'parents', 'perfect', 'period', 'philosophy', 'photographer', 'place', 'policy', 'popular', 'pray', 'predict', 'presentation', 'print', 'printer', 'private', 'procrastinate', 'project', 'protect', 'prove', 'provide', 'psychology', 'punish', 'puzzled', 'question', 'quick', 'rainbow', 'rake', 'rehearse', 'remove', 'revenge', 'review', 'rich', 'roof', 'rooster', 'rude', 'say', 'scientist', 'scotland', 'screwdriver', 'second', 'senate', 'separate', 'service', 'shrimp', 'shy', 'side', 'situation', 'slave', 'soccer', 'socks', 'solid', 'sometimes', 'spider', 'spin', 'square', 'stairs', 'stare', 'start', 'store', 'straw', 'structure', 'suggest', 'sun', 'support', 'suppose', 'sure', 'surprise', 'sweater', 'swim', 'symbol', 'taste', 'team', 'telephone', 'tennis', 'their', 'then', 'thermometer', 'thing', 'third', 'thousand', 'three', 'tie', 'topic', 'touch', 'tournament', 'try', 'two', 'type', 'umbrella', 'vegetable', 'vocabulary', 'waste', 'we', 'wear', 'weekly', 'welcome', 'winter', 'without', 'wolf', 'worm', 'wristwatch', 'yourself', 'above', 'accomplish', 'adopt', 'advantage', 'alphabet', 'anniversary', 'another', 'appropriate', 'arrogant', 'artist', 'background', 'bee', 'behavior', 'bell', 'birth', 'bless', 'blood', 'boots', 'brave', 'breathe', 'bright', 'bull', 'butterfly', 'card', 'category', 'catholic', 'cent', 'chemistry', 'cherry', 'china', 'chop', 'christian', 'cigarette', 'clever', 'clown', 'coach', 'coat', 'cochlear implant', 'coconut', 'common', 'commute', 'control', 'count', 'culture', 'daily', 'defend', 'degree', 'demonstrate', 'department', 'die', 'dig', 'dinner', 'dinosaur', 'diploma', 'director', 'disconnect', 'discover', \"don't want\", 'drum', 'each', 'educate', 'electrician', 'empty', 'england', 'establish', 'excuse', 'eyeglasses', 'faculty', 'fall in love', 'famous', 'farm', 'fence', 'fix', 'flexible', 'flirt', 'flood', 'fork', 'four', 'fun', 'funeral', 'furniture', 'gallaudet', 'general', 'ghost', 'give up', 'glass', 'gorilla', 'gray', 'guide', 'habit', 'health', 'hearing aid', 'heaven', 'heavy', 'helmet', 'hide', 'high school', 'hockey', 'hold', 'honest', 'hug', 'hunt', 'image', 'influence', 'interesting', 'interpreter', 'iran', 'italy', 'jewish', 'judge', 'key', 'label', 'leaf', 'left', 'lend', 'less', 'linguistics', 'lonely', 'long', 'magic', 'mainstream', 'major', 'manager', 'maximum', 'me', 'mexico', 'middle', 'mind', 'misunderstand', 'monster', 'multiply', 'myself', 'nothing', 'october', 'odd', 'offer', 'on', 'only', 'opposite', 'out', 'overlook', 'path', 'percent', 'physics', 'piano', 'pick', 'pie', 'plate', 'pocket', 'popcorn', 'positive', 'pregnant', 'prevent', 'proof', 'pumpkin', 'purpose', 'race', 'realize', 'recognize', 'refuse', 'relationship', 'repeat', 'replace', 'report', 'represent', 'request', 'responsibility', 'result', 'reveal', 'ring', 'rob', 'rock', 'role', 'rope', 'rush', 'salute', 'satisfy', 'search', 'selfish', 'sensitive', 'serve', 'seven', 'shampoo', 'she', 'shelf', 'shopping', 'sign language', 'similar', 'sing', 'six', 'skeleton', 'sketch', 'skill', 'sleepy', 'slip', 'smell', 'sneeze', 'snob', 'specific', 'stamp', 'steel', 'strawberry', 'subtract', 'subway', 'suffer', 'surface', 'sweep', 'swing', 'switzerland', 'tale', 'tan', 'teeth', 'terrible', 'thankful', 'they', 'through', 'tiptoe', 'title', 'tooth', 'toothbrush', 'total', 'tough', 'tradition', 'trophy', 'trouble', 'true', 'trust', 'under', 'verb', 'wall', 'watermelon', 'way', 'weird', 'while', 'wide', 'willing', 'wish', 'wonderful', 'workshop', 'worse', 'wrench', 'a', 'a lot', 'abdomen', 'able', 'accountant', 'action', 'active', 'activity', 'address', 'affect', 'afraid', 'against', 'agenda', 'ahead', 'aim', 'alcohol', 'algebra', 'all day', 'amazing', 'angle', 'apart', 'apostrophe', 'appetite', 'appreciate', 'april', 'archery', 'around', 'article', 'assistant', 'attend', 'auction', 'authority', 'average', 'awake', 'b', 'babysitter', 'battle', 'beginning', 'belief', 'bible', 'bike', 'blend', 'bone', 'bra', 'brief', 'broke', 'bug', 'bully', 'button', 'cabbage', 'cabinet', 'calculate', 'calculator', 'calculus', 'camping', 'canoe', 'careless', 'ceiling', 'cemetery', 'chapter', 'choir', 'circle', 'come', 'come here', 'company', 'complete', 'concept', 'concern', 'confront', 'confused', 'congress', 'connect', 'conquer', 'constitution', 'contract', 'court', 'crab', 'cross', 'cruel', 'crush', 'date', 'december', 'decrease', 'deduct', 'defeat', 'deposit', 'depressed', 'detach', 'determine', 'diabetes', 'dime', 'dirt', 'disgust', 'dismiss', 'dizzy', 'document', 'dorm', 'dormitory', 'downstairs', 'economy', 'education', 'effort', 'eighteen', 'engage', 'engagement', 'engineer', 'envelope', 'erase', 'eternity', 'evening', 'everyday', 'expand', 'eye', 'eyes', 'fake', 'farmer', 'february', 'federal', 'final', 'florida', 'flute', 'forbid', 'forever', 'fourth', 'free', 'french fries', 'gamble', 'gas', 'gasoline', 'generation', 'geography', 'german', 'girlfriend', 'gold', 'grandma', 'grass', 'grow up', 'gun', 'haircut', 'hard of hearing', 'hippopotamus', 'his', 'honey', 'hurricane', 'identify', 'include', 'infection', 'innocent', 'insect', 'instead', 'institute', 'international', 'interrupt', 'involve', 'jail', 'january', 'joke', 'june', 'kangaroo', 'karate', 'kick', 'kneel', 'knock', 'laptop', 'lift', 'lightning', 'lip', 'lipstick', 'local', 'manage', 'mature', 'member', 'message', 'metal', 'microphone', 'mix', 'monthly', 'motor', 'nation', 'network', 'nickel', 'nineteen', 'normal', 'november', 'nut', 'octopus', 'once', 'organize', 'over', 'owl', 'p', 'parachute', 'paragraph', 'parallel', 'pay attention', 'peace', 'peanut butter', 'perfume', 'personality', 'pet', 'philadelphia', 'physician', 'piece', 'pity', 'plant', 'plenty', 'pneumonia', 'politics', 'position', 'pound', 'pour', 'praise', 'preach', 'preacher', 'prefer', 'pressure', 'principal', 'priority', 'professional', 'professor', 'promote', 'prostitute', 'proud', 'quote', 'receive', 'recent', 'reduce', 'refer', 'referee', 'relate', 'relax', 'remote control', 'rent', 'reputation', 'resign', 'responsible', 'ridiculous', 'road', 'robot', 'rubber', 'safe', 'sauce', 'sausage', 'scold', 'senior', 'september', 'several', 'shame', 'shave', 'shoot', 'shoulder', 'silver', 'simple', 'siren', 'size', 'skate', 'skin', 'skunk', 'slice', 'smooth', 'snack', 'snowman', 'society', 'someone', 'song', 'sore throat', 'south america', 'spanish', 'speak', 'speed', 'spell', 'spoon', 'spring', 'standard', 'statistics', 'sticky', 'still', 'stretch', 'surgeon', 'sweden', 'swimsuit', 'sympathy', 'take turns', 'take up', 'technology', 'temple', 'tender', 'thailand', 'theater', 'them', 'theme', 'thick', 'this', 'throat', 'tissue', 'tongue', 'tonight', 'tornado', 'tower', 'tranquil', 'transform', 'tutor', 'twin', 'united states', 'value', 'visitor', 'waiter', 'wake up', 'wallet', 'wander', 'wash face', 'weight', 'whale', 'whatever', 'within', 'wonder', 'worker', 'worthless', 'wrap', 'accent', 'act', 'adapt', 'adjective', 'adjust', 'admire', 'admit', 'advanced', 'adverb', 'agreement', 'aid', 'alligator', 'amputate', 'anatomy', 'annoy', 'anyway', 'approach', 'arizona', 'assist', 'assume', 'attorney', 'audiologist', 'audiology', 'austria', 'author', 'available', 'award', 'aware', 'bank', 'baptize', 'basic', 'battery', 'berry', 'beside', 'between', 'binoculars', 'blow', 'boast', 'boil', 'bookshelf', 'bookstore', 'boxing', 'braid', 'brain', 'breakdown', 'breakfast', 'breeze', 'bribe', 'brochure', 'buffalo', 'burp', 'bush', 'bye', 'camel', 'candidate', 'cannot', 'captain', 'carnival', 'caterpillar', 'cheerleader', 'chemical', 'chicago', 'choke', 'christ', 'click', 'closet', 'clueless', 'clumsy', 'collect', 'comma', 'comment', 'commit', 'committee', 'common sense', 'compete', 'concentrate', 'congratulations', 'consider', 'construct', 'consume', 'contest', 'conversation', 'convert', 'cooperate', 'counsel', 'counselor', 'crave', 'create', 'crocodile', 'crown', 'cuba', 'curtain', 'customer', 'd', 'damage', 'dancer', 'danger', 'dangerous', 'dawn', 'death', 'debate', 'debt', 'deliver', 'democrat', 'descend', 'design', 'detective', 'devil', 'dice', 'difficult', 'dining room', 'discipline', 'discount', 'disgusted', 'disturb', 'division', 'done', 'drag', 'dragon', 'drama', 'drug', 'due', 'dull', 'dusk', 'dvd', 'dye', 'e', 'either', 'electricity', 'elementary', 'else', 'emergency', 'engine', 'enormous', 'eraser', 'every monday', 'every tuesday', 'everything', 'except', 'exhibit', 'explode', 'express', 'f', 'fairy', 'familiar', 'festival', 'finance', 'fingerspell', 'fire', 'firefighter', 'five', 'flatter', 'fool', 'forgive', 'former', 'freeway', 'from now on', 'g', 'gang', 'gay', 'geometry', 'get up', 'gift', 'grab', 'graduation', 'grateful', 'grey', 'gymnastics', 'h', 'hang up', 'hanukkah', 'heap', 'heart attack', 'hill', 'holy', 'hop', 'host', 'hot dog', 'human', 'i', 'ill', 'illegal', 'impact', 'individual', 'inspect', 'inspire', 'intersection', 'ireland', 'iron', 'j', 'jewelry', 'journey', 'joy', 'july', 'k', 'kid', 'kindergarten', 'lady', 'lamp', 'last week', 'laundry', 'leader', 'league', 'leak', 'legal', 'let', 'liability', 'librarian', 'license', 'little bit', 'loan', 'look at', 'look for', 'lord', 'm', 'meaning', 'melody', 'melt', 'mention', 'microscope', 'midnight', 'military', 'mine', 'mistake', 'mock', 'moose', 'mosquito', 'motivate', 'murder', 'n', 'narrow', 'necessary', 'negotiate', 'new york', 'nine', 'northwest', 'not yet', 'notice', 'numerous', 'nun', 'o', 'objective', 'obsess', 'obtain', 'occur', 'odor', 'olympics', 'or', 'oral', 'our', 'overcome', 'pack', 'painter', 'part', 'pause', 'peaceful', 'pear', 'peel', 'penalty', 'pennsylvania', 'penny', 'permit', 'phrase', 'pickle', 'pilot', 'player', 'polar bear', 'policeman', 'poop', 'post', 'potential', 'poverty', 'precious', 'precipitation', 'precise', 'preschool', 'pride', 'prince', 'princess', 'principle', 'process', 'profit', 'progress', 'propaganda', 'proper', 'psychologist', 'public', 'publish', 'purchase', 'pure', 'pursue', 'put off', 'q', 'quality', 'quarrel', 'quarter', 'r', 'rage', 'rather', 'real', 'recliner', 'recommend', 'recover', 'regular', 'release', 'relief', 'rely', 'reply', 'rescue', 'resist', 'restroom', 'retreat', 'roar', 'robber', 'roommate', 'rose', 'ruin', 's', 'salary', 'saw', 'scan', 'scream', 'sculpture', 'sea', 'seldom', 'sequence', 'settle', 'shout', 'shovel', 'sin', 'singer', 'sixteen', 'ski', 'skip', 'smoking', 'sofa', 'soldier', 'solve', 'someday', 'something', 'somewhere', 'soul', 'spill', 'spit', 'spread', 'sprint', 'squeeze', 'stadium', 'stepfather', 'sting', 'stir', 'stitch', 'stuck', 'sue', 'sunshine', 'superman', 'surrender', 'suspend', 'swimming', 't', 'talent', 'telescope', 'tempt', 'ten', 'tend', 'testify', 'texas', 'text', 'than', 'therefore', 'thrill', 'tobacco', 'toilet paper', 'tolerate', 'torture', 'towel', 'trip', 'truth', 'turn', 'tv', 'u', 'unique', 'upstairs', 'v', 'vacant', 'vague', 'valley', 'vampire', 'very', 'vice president', 'viewpoint', 'visualize', 'vlog', 'volleyball', 'w', 'washington', 'waterfall', 'weigh', 'wheelchair', 'whistle', '', '']\n"
          ]
        }
      ],
      "source": [
        "with open(os.path.join(workdir, \"word_classes.txt\")) as f:\n",
        "  liste = f.readlines()\n",
        "  liste = [i.split(\"\\t\")[-1].split(\"\\n\")[0] for i in liste]\n",
        "  print(liste)"
      ]
    },
    {
      "cell_type": "code",
      "execution_count": 10,
      "metadata": {
        "colab": {
          "base_uri": "https://localhost:8080/"
        },
        "id": "wZ4goRVwi9Vj",
        "outputId": "d088ebfc-954e-4bc3-947d-88824765425a"
      },
      "outputs": [
        {
          "output_type": "stream",
          "name": "stdout",
          "text": [
            "{'bbox': [385, 37, 885, 720], 'fps': 25, 'frame_end': -1, 'frame_start': 1, 'instance_id': 0, 'signer_id': 118, 'source': 'aslbrick', 'split': 'train', 'url': 'http://aslbricks.org/New/ASL-Videos/book.mp4', 'variation_id': 0, 'video_id': '69241'}\n"
          ]
        }
      ],
      "source": [
        "for data in json_data[:10]:\n",
        "  #print(i.keys())\n",
        "  for instances in data[\"instances\"]:\n",
        "    #print(instances['split'], instances['url'], data['gloss'])# instances['video_id'] )#['fps'])\n",
        "    #print(path)\n",
        "    path = os.path.join(sign_video_data_dir, f\"{instances['split']}/{data['gloss']}\")\n",
        "    print(instances)\n",
        "    break\n",
        "\n",
        "  break"
      ]
    },
    {
      "cell_type": "code",
      "execution_count": null,
      "metadata": {
        "id": "iv-AdHbEjmY1"
      },
      "outputs": [],
      "source": [
        "if not os.path.exists(sign_video_data_dir):\n",
        "  os.mkdir(sign_video_data_dir)\n",
        "  os.mkdir(train_dir)\n",
        "  os.mkdir(val_dir)\n",
        "  os.mkdir(test_dir)"
      ]
    },
    {
      "cell_type": "markdown",
      "metadata": {
        "id": "9GXnR-of1mgA"
      },
      "source": [
        "### split videos"
      ]
    },
    {
      "cell_type": "code",
      "execution_count": null,
      "metadata": {
        "id": "d7RnxH0u1ptg"
      },
      "outputs": [],
      "source": [
        "import shutil\n",
        "for data in json_data:\n",
        "  for instances in data[\"instances\"]:\n",
        "    #print(instances['split'], instances['url'], data['gloss'])# instances['video_id'] )#['fps'])\n",
        "    path = os.path.join(sign_video_data_dir, f\"{instances['split']}/{data['gloss']}\")\n",
        "    video_path = f\"/content/drive/MyDrive/Tensorflow dev/real_time_sign_language/wasl_data/wlasl-complete/videos/{instances['video_id']}.mp4\"\n",
        "    try:\n",
        "      shutil.move(video_path, os.path.join(path, f\"{instances['video_id']}.mp4\"))\n",
        "      #print(\"success\")\n",
        "    except:\n",
        "      pass\n",
        "      #print(video_path, os.path.join(path, f\"{instances['video_id']}.mp4\"))\n"
      ]
    },
    {
      "cell_type": "markdown",
      "metadata": {
        "id": "Mq_dVe85eG3r"
      },
      "source": [
        "# Dataset to Landmarks"
      ]
    },
    {
      "cell_type": "code",
      "source": [
        "def mediapipe_detection(image, model):\n",
        "    image = cv2.cvtColor(image, cv2.COLOR_BGR2RGB) # COLOR CONVERSION BGR 2 RGB\n",
        "    image.flags.writeable = False                  # Image is no longer writeable\n",
        "    results = model.process(image)                 # Make prediction\n",
        "    image.flags.writeable = True                   # Image is now writeable\n",
        "    image = cv2.cvtColor(image, cv2.COLOR_RGB2BGR) # COLOR COVERSION RGB 2 BGR\n",
        "    return image, results"
      ],
      "metadata": {
        "id": "_TgTZ4ba8SaX"
      },
      "execution_count": 33,
      "outputs": []
    },
    {
      "cell_type": "code",
      "source": [
        "def preprocess(array):\n",
        "  mean = np.mean(array)\n",
        "  std = np.std(array)\n",
        "  return (array-mean)/std"
      ],
      "metadata": {
        "id": "sntQd9vl-lCf"
      },
      "execution_count": 12,
      "outputs": []
    },
    {
      "cell_type": "code",
      "source": [
        "mp_holistic = mp.solutions.holistic\n",
        "mp_drawing = mp.solutions.drawing_styles\n",
        "\n",
        "def draw_landmarks(image, results):\n",
        "    mp_drawing.draw_landmarks(image, results.face_landmarks, mp_holistic.FACEMESH_TESSELATION) # Draw face connections\n",
        "    mp_drawing.draw_landmarks(image, results.pose_landmarks, mp_holistic.POSE_CONNECTIONS) # Draw pose connections\n",
        "    mp_drawing.draw_landmarks(image, results.left_hand_landmarks, mp_holistic.HAND_CONNECTIONS) # Draw left hand connections\n",
        "    mp_drawing.draw_landmarks(image, results.right_hand_landmarks, mp_holistic.HAND_CONNECTIONS) # Draw right hand connections\n",
        "\n",
        "\n",
        "def draw_styled_landmarks(image, results):\n",
        "    # Draw face connections\n",
        "    mp_drawing.draw_landmarks(image, results.face_landmarks, mp_holistic.FACE_CONNECTIONS,\n",
        "                             mp_drawing.DrawingSpec(color=(80,110,10), thickness=1, circle_radius=1),\n",
        "                             mp_drawing.DrawingSpec(color=(80,256,121), thickness=1, circle_radius=1)\n",
        "                             )\n",
        "    # Draw pose connections\n",
        "    mp_drawing.draw_landmarks(image, results.pose_landmarks, mp_holistic.POSE_CONNECTIONS,\n",
        "                             mp_drawing.DrawingSpec(color=(80,22,10), thickness=2, circle_radius=4),\n",
        "                             mp_drawing.DrawingSpec(color=(80,44,121), thickness=2, circle_radius=2)\n",
        "                             )\n",
        "    # Draw left hand connections\n",
        "    mp_drawing.draw_landmarks(image, results.left_hand_landmarks, mp_holistic.HAND_CONNECTIONS,\n",
        "                             mp_drawing.DrawingSpec(color=(121,22,76), thickness=2, circle_radius=4),\n",
        "                             mp_drawing.DrawingSpec(color=(121,44,250), thickness=2, circle_radius=2)\n",
        "                             )\n",
        "    # Draw right hand connections\n",
        "    mp_drawing.draw_landmarks(image, results.right_hand_landmarks, mp_holistic.HAND_CONNECTIONS,\n",
        "                             mp_drawing.DrawingSpec(color=(245,117,66), thickness=2, circle_radius=4),\n",
        "                             mp_drawing.DrawingSpec(color=(245,66,230), thickness=2, circle_radius=2)\n",
        "                             )"
      ],
      "metadata": {
        "id": "eBGVrtBS-aOV"
      },
      "execution_count": 19,
      "outputs": []
    },
    {
      "cell_type": "code",
      "execution_count": 40,
      "metadata": {
        "id": "OJ8wWeOH1l-2"
      },
      "outputs": [],
      "source": [
        "\n",
        "\n",
        "holistic=mp_holistic.Holistic(min_detection_confidence=0.5, min_tracking_confidence=0.5)\n",
        "\n",
        "# Exemple de fonction pour traiter une vidéo\n",
        "def process_video(video_path):\n",
        "    cap = cv2.VideoCapture(video_path)\n",
        "    all = []\n",
        "\n",
        "    while cap.isOpened():\n",
        "        ret, frame = cap.read()\n",
        "        if not ret:\n",
        "            break\n",
        "\n",
        "        # Convertir l'image BGR en RGB\n",
        "        #frame_rgb = cv2.cvtColor(frame, cv2.COLOR_BGR2RGB)\n",
        "\n",
        "        # Processer l'image avec MediaPipe Holistic\n",
        "        #results = holistic.process(frame_rgb)\n",
        "        frame, results = mediapipe_detection(frame, holistic)\n",
        "        #draw_styled_landmarks(frame, results)\n",
        "        pose = np.array([[res.x, res.y, res.z, res.visibility] for res in results.pose_landmarks.landmark]).flatten() if results.pose_landmarks else np.zeros(132)\n",
        "        face = np.array([[res.x, res.y, res.z] for res in results.face_landmarks.landmark]).flatten() if results.face_landmarks else np.zeros(1404)\n",
        "        lh = np.array([[res.x, res.y, res.z] for res in results.left_hand_landmarks.landmark]).flatten() if results.left_hand_landmarks else np.zeros(21*3)\n",
        "        rh = np.array([[res.x, res.y, res.z] for res in results.right_hand_landmarks.landmark]).flatten() if results.right_hand_landmarks else np.zeros(21*3)\n",
        "\n",
        "        out = np.concatenate([pose, face, lh, rh])\n",
        "        all.append(np.array(out))\n",
        "        #cv2_imshow(frame)\n",
        "\n",
        "\n",
        "    cap.release()\n",
        "    #holistic.close()\n",
        "    padding = 100\n",
        "    all = all[:padding] if len(all) > padding else all+list(np.zeros((padding-len(all), len(all[0]))))\n",
        "    all= np.array(all)\n",
        "\n",
        "    #Preprocessing\n",
        "    all = preprocess(all)\n",
        "    return all\n",
        "\n"
      ]
    },
    {
      "cell_type": "code",
      "source": [
        "#Test:\n",
        "video_path = \"video_data/train/a/01610.mp4\"\n",
        "out = process_video(video_path)\n",
        "out.shape"
      ],
      "metadata": {
        "colab": {
          "base_uri": "https://localhost:8080/"
        },
        "id": "SD7RC6KGAPtV",
        "outputId": "3cb44269-b56e-452c-bb38-f83cd0788e59"
      },
      "execution_count": 27,
      "outputs": [
        {
          "output_type": "execute_result",
          "data": {
            "text/plain": [
              "(100, 1662)"
            ]
          },
          "metadata": {},
          "execution_count": 27
        }
      ]
    },
    {
      "cell_type": "code",
      "source": [
        "X_train, y_train = [], []\n",
        "X_test, y_test = [], []\n",
        "X_val, y_val = [], []"
      ],
      "metadata": {
        "id": "8rZS4Fs0Ld-Q"
      },
      "execution_count": 30,
      "outputs": []
    },
    {
      "cell_type": "code",
      "source": [
        "def process_videos(video_paths, label):\n",
        "    X, y = [], []\n",
        "    for video_path in video_paths:\n",
        "        try:\n",
        "            X.append(process_video(video_path))\n",
        "            y.append(label)\n",
        "        except Exception as e:\n",
        "            print(e)\n",
        "    return X, y\n",
        "\n",
        "print(train_dir)\n",
        "\n",
        "\n",
        "\n",
        "for classes in liste[:9]:\n",
        "    train_videos = glob.glob(os.path.join(train_dir, classes, \"*.mp4\"))\n",
        "    test_videos = glob.glob(os.path.join(test_dir, classes, \"*.mp4\"))\n",
        "    val_videos = glob.glob(os.path.join(val_dir, classes, \"*.mp4\"))\n",
        "\n",
        "    X_t, y_t = process_videos(train_videos, classes)\n",
        "    X_train.extend(X_t)\n",
        "    y_train.extend(y_t)\n",
        "\n",
        "    X_t, y_t = process_videos(test_videos, classes)\n",
        "    X_test.extend(X_t)\n",
        "    y_test.extend(y_t)\n",
        "\n",
        "    X_t, y_t = process_videos(val_videos, classes)\n",
        "    X_val.extend(X_t)\n",
        "    y_val.extend(y_t)\n",
        "\n",
        "X_train, y_train = np.array(X_train), np.array(y_train)\n",
        "X_test, y_test = np.array(X_test), np.array(y_test)\n",
        "X_val, y_val = np.array(X_val), np.array(y_val)\n",
        "\n",
        "print(X_train.shape, y_train.shape, X_test.shape, y_test.shape, X_val.shape, y_val.shape)\n"
      ],
      "metadata": {
        "colab": {
          "base_uri": "https://localhost:8080/"
        },
        "id": "5Bh0qRwZBLOU",
        "outputId": "9d76b66b-a919-4a44-9e7f-3794591ffb20"
      },
      "execution_count": 34,
      "outputs": [
        {
          "output_type": "stream",
          "name": "stdout",
          "text": [
            "video_data/train\n",
            "(184, 100, 1662) (184,) (32, 100, 1662) (32,) (41, 100, 1662) (41,)\n"
          ]
        }
      ]
    },
    {
      "cell_type": "code",
      "execution_count": 35,
      "metadata": {
        "id": "1svj69wfuAqc"
      },
      "outputs": [],
      "source": [
        "holistic.close()"
      ]
    },
    {
      "cell_type": "code",
      "source": [
        "print(X_train.shape, y_train.shape, X_test.shape, y_test.shape, X_val.shape, y_val.shape)"
      ],
      "metadata": {
        "colab": {
          "base_uri": "https://localhost:8080/"
        },
        "id": "dKgn36aAN9hE",
        "outputId": "739928f7-9672-4b74-89ff-6de8d2570293"
      },
      "execution_count": null,
      "outputs": [
        {
          "output_type": "stream",
          "name": "stdout",
          "text": [
            "(75, 155, 1662) (75,) (13, 155, 1662) (13,) (17, 155, 1662) (17,)\n"
          ]
        }
      ]
    },
    {
      "cell_type": "code",
      "source": [
        "\n",
        "def encoder_label(label):\n",
        "  encode = LabelEncoder()\n",
        "  one_hot = OneHotEncoder(sparse=False)\n",
        "  new_label= encode.fit_transform(label)\n",
        "  outlabel= one_hot.fit_transform(new_label.reshape(len(new_label), 1))\n",
        "  return outlabel\n",
        "\n"
      ],
      "metadata": {
        "id": "G922vcw2WAlR"
      },
      "execution_count": 36,
      "outputs": []
    },
    {
      "cell_type": "code",
      "source": [
        "y_train, y_test, y_val = encoder_label(y_train), encoder_label(y_test), encoder_label(y_val)"
      ],
      "metadata": {
        "colab": {
          "base_uri": "https://localhost:8080/"
        },
        "id": "OvkIBtx_HNcZ",
        "outputId": "2c1d2388-8172-4ce9-f083-8c30dd48a28a"
      },
      "execution_count": 37,
      "outputs": [
        {
          "output_type": "stream",
          "name": "stderr",
          "text": [
            "/usr/local/lib/python3.10/dist-packages/sklearn/preprocessing/_encoders.py:868: FutureWarning: `sparse` was renamed to `sparse_output` in version 1.2 and will be removed in 1.4. `sparse_output` is ignored unless you leave `sparse` to its default value.\n",
            "  warnings.warn(\n",
            "/usr/local/lib/python3.10/dist-packages/sklearn/preprocessing/_encoders.py:868: FutureWarning: `sparse` was renamed to `sparse_output` in version 1.2 and will be removed in 1.4. `sparse_output` is ignored unless you leave `sparse` to its default value.\n",
            "  warnings.warn(\n",
            "/usr/local/lib/python3.10/dist-packages/sklearn/preprocessing/_encoders.py:868: FutureWarning: `sparse` was renamed to `sparse_output` in version 1.2 and will be removed in 1.4. `sparse_output` is ignored unless you leave `sparse` to its default value.\n",
            "  warnings.warn(\n"
          ]
        }
      ]
    },
    {
      "cell_type": "code",
      "source": [
        "print(y_train)"
      ],
      "metadata": {
        "id": "sZY4lqcbWsEC",
        "colab": {
          "base_uri": "https://localhost:8080/"
        },
        "outputId": "bb838da4-c16a-4998-cb6d-764ebc238368"
      },
      "execution_count": 38,
      "outputs": [
        {
          "output_type": "stream",
          "name": "stdout",
          "text": [
            "[[0. 1. 0. ... 0. 0. 0.]\n",
            " [0. 1. 0. ... 0. 0. 0.]\n",
            " [0. 1. 0. ... 0. 0. 0.]\n",
            " ...\n",
            " [0. 0. 1. ... 0. 0. 0.]\n",
            " [0. 0. 1. ... 0. 0. 0.]\n",
            " [0. 0. 1. ... 0. 0. 0.]]\n"
          ]
        }
      ]
    },
    {
      "cell_type": "code",
      "execution_count": 41,
      "metadata": {
        "colab": {
          "base_uri": "https://localhost:8080/"
        },
        "id": "645JxVYd9ReM",
        "outputId": "802d2e3f-0196-4628-bf0c-e3c8c059d283"
      },
      "outputs": [
        {
          "output_type": "stream",
          "name": "stderr",
          "text": [
            "/usr/local/lib/python3.10/dist-packages/google/protobuf/symbol_database.py:55: UserWarning: SymbolDatabase.GetPrototype() is deprecated. Please use message_factory.GetMessageClass() instead. SymbolDatabase.GetPrototype() will be removed soon.\n",
            "  warnings.warn('SymbolDatabase.GetPrototype() is deprecated. Please '\n"
          ]
        },
        {
          "output_type": "stream",
          "name": "stdout",
          "text": [
            "out shape: (100, 1662)\n"
          ]
        }
      ],
      "source": [
        "# Utilisation de la fonction avec un chemin de vidéo\n",
        "video_path = \"video_data/train/before/05734.mp4\"\n",
        "out = process_video(video_path)\n",
        "\n",
        "print(f\"out shape: {out.shape}\")  # Devrait afficher (30, 542) pour une vidéo de 30 frames\n"
      ]
    },
    {
      "cell_type": "markdown",
      "metadata": {
        "id": "8Qpp9eu9eObE"
      },
      "source": [
        "# Visualisation"
      ]
    },
    {
      "cell_type": "code",
      "source": [
        "mp_drawing = mp.solutions.drawing_utils\n",
        "def draw_styled_landmarks(image, results):\n",
        "    # Draw face connections\n",
        "    mp_drawing.draw_landmarks(image, results.face_landmarks, mp_holistic.FACEMESH_TESSELATION,\n",
        "                             mp_drawing.DrawingSpec(color=(80,110,10), thickness=1, circle_radius=1),\n",
        "                             mp_drawing.DrawingSpec(color=(80,256,121), thickness=1, circle_radius=1)\n",
        "                             )\n",
        "    # Draw pose connections\n",
        "    mp_drawing.draw_landmarks(image, results.pose_landmarks, mp_holistic.POSE_CONNECTIONS,\n",
        "                             mp_drawing.DrawingSpec(color=(80,22,10), thickness=2, circle_radius=4),\n",
        "                             mp_drawing.DrawingSpec(color=(80,44,121), thickness=2, circle_radius=2)\n",
        "                             )\n",
        "    # Draw left hand connections\n",
        "    mp_drawing.draw_landmarks(image, results.left_hand_landmarks, mp_holistic.HAND_CONNECTIONS,\n",
        "                             mp_drawing.DrawingSpec(color=(121,22,76), thickness=2, circle_radius=4),\n",
        "                             mp_drawing.DrawingSpec(color=(121,44,250), thickness=2, circle_radius=2)\n",
        "                             )\n",
        "    # Draw right hand connections\n",
        "    mp_drawing.draw_landmarks(image, results.right_hand_landmarks, mp_holistic.HAND_CONNECTIONS,\n",
        "                             mp_drawing.DrawingSpec(color=(245,117,66), thickness=2, circle_radius=4),\n",
        "                             mp_drawing.DrawingSpec(color=(245,66,230), thickness=2, circle_radius=2)\n",
        "                             )"
      ],
      "metadata": {
        "id": "RTyr0P8Li_o3"
      },
      "execution_count": null,
      "outputs": []
    },
    {
      "cell_type": "code",
      "source": [
        "import cv2\n",
        "import mediapipe as mp\n",
        "import matplotlib.pyplot as plt\n",
        "import numpy as np\n",
        "from mpl_toolkits.mplot3d import Axes3D\n",
        "\n",
        "# Initialiser MediaPipe\n",
        "mp_hands = mp.solutions.hands\n",
        "\n",
        "# Initialiser la capture vidéo (0 pour la webcam intégrée ou chemin de la vidéo)\n",
        "cap = cv2.VideoCapture(video_path)\n",
        "\n",
        "# Utiliser MediaPipe Hands\n",
        "with mp_hands.Hands(\n",
        "    static_image_mode=False,\n",
        "    max_num_hands=2,\n",
        "    min_detection_confidence=0.5) as hands:\n",
        "\n",
        "    while cap.isOpened():\n",
        "        ret, frame = cap.read()\n",
        "        if not ret:\n",
        "            break\n",
        "\n",
        "        # Convertir l'image en RGB\n",
        "        image = cv2.cvtColor(frame, cv2.COLOR_BGR2RGB)\n",
        "\n",
        "        # Détecter les landmarks des mains\n",
        "        results = hands.process(image)\n",
        "\n",
        "        # Vérifier si des landmarks sont détectés\n",
        "        if results.multi_hand_landmarks:\n",
        "            for hand_landmarks in results.multi_hand_landmarks:\n",
        "                # Extraire les coordonnées des landmarks\n",
        "                landmarks = [(lm.x, lm.y, lm.z) for lm in hand_landmarks.landmark]\n",
        "\n",
        "                # Afficher les landmarks dans un graphe 3D\n",
        "                fig = plt.figure(figsize=(10, 10))\n",
        "                ax = fig.add_subplot(111, projection='3d')\n",
        "\n",
        "                x_vals = [lm[0] for lm in landmarks]\n",
        "                y_vals = [lm[1] for lm in landmarks]\n",
        "                z_vals = [lm[2] for lm in landmarks]\n",
        "\n",
        "                ax.scatter(x_vals, y_vals, z_vals)\n",
        "\n",
        "                ax.set_xlabel('X')\n",
        "                ax.set_ylabel('Y')\n",
        "                ax.set_zlabel('Z')\n",
        "\n",
        "                plt.title('Landmarks des mains en 3D')\n",
        "                plt.show()\n",
        "                break  # Afficher seulement les landmarks de la première main détectée et quitter la boucle\n",
        "\n",
        "        if cv2.waitKey(5) & 0xFF == 27:\n",
        "            break\n",
        "\n",
        "cap.release()\n",
        "cv2.destroyAllWindows()\n"
      ],
      "metadata": {
        "id": "XrclzDCVl7tf"
      },
      "execution_count": null,
      "outputs": []
    },
    {
      "cell_type": "code",
      "source": [
        "import matplotlib.pyplot as plt\n",
        "import numpy as np\n",
        "\n",
        "import matplotlib.animation as animation\n",
        "\n",
        "# Fixing random state for reproducibility\n",
        "np.random.seed(19680801)\n",
        "\n",
        "\n",
        "def random_walk(num_steps, max_step=0.05):\n",
        "    \"\"\"Return a 3D random walk as (num_steps, 3) array.\"\"\"\n",
        "    start_pos = np.random.random(3)\n",
        "    steps = np.random.uniform(-max_step, max_step, size=(num_steps, 3))\n",
        "    walk = start_pos + np.cumsum(steps, axis=0)\n",
        "    return walk\n",
        "\n",
        "\n",
        "def update_lines(num, walks, lines):\n",
        "    for line, walk in zip(lines, walks):\n",
        "        line.set_data_3d(walk[:num, :].T)\n",
        "    return lines\n",
        "\n",
        "\n",
        "# Data: 40 random walks as (num_steps, 3) arrays\n",
        "num_steps = 30\n",
        "walks = [random_walk(num_steps) for index in range(40)]\n",
        "\n",
        "# Attaching 3D axis to the figure\n",
        "fig = plt.figure()\n",
        "ax = fig.add_subplot(projection=\"3d\")\n",
        "\n",
        "# Create lines initially without data\n",
        "lines = [ax.plot([], [], [])[0] for _ in walks]\n",
        "\n",
        "# Setting the Axes properties\n",
        "ax.set(xlim3d=(0, 1), xlabel='X')\n",
        "ax.set(ylim3d=(0, 1), ylabel='Y')\n",
        "ax.set(zlim3d=(0, 1), zlabel='Z')\n",
        "\n",
        "# Creating the Animation object\n",
        "ani = animation.FuncAnimation(\n",
        "    fig, update_lines, num_steps, fargs=(walks, lines), interval=100)\n",
        "\n",
        "plt.show()"
      ],
      "metadata": {
        "colab": {
          "base_uri": "https://localhost:8080/",
          "height": 418
        },
        "id": "sR7LLyi8mjHM",
        "outputId": "0bf2efe1-8a83-4317-e0eb-84be577a8637"
      },
      "execution_count": null,
      "outputs": [
        {
          "output_type": "display_data",
          "data": {
            "text/plain": [
              "<Figure size 640x480 with 1 Axes>"
            ],
            "image/png": "[encoded data removed]"
          },
          "metadata": {}
        }
      ]
    },
    {
      "cell_type": "markdown",
      "metadata": {
        "id": "EWhdS17NeSTV"
      },
      "source": [
        "# Models"
      ]
    },
    {
      "cell_type": "code",
      "source": [
        "label = liste[:9]\n",
        "label"
      ],
      "metadata": {
        "id": "goaHjnyWXCu-",
        "colab": {
          "base_uri": "https://localhost:8080/"
        },
        "outputId": "e777f000-d51c-472f-d088-6cfd91087ef0"
      },
      "execution_count": 46,
      "outputs": [
        {
          "output_type": "execute_result",
          "data": {
            "text/plain": [
              "['book',\n",
              " 'drink',\n",
              " 'computer',\n",
              " 'before',\n",
              " 'chair',\n",
              " 'go',\n",
              " 'clothes',\n",
              " 'who',\n",
              " 'candy']"
            ]
          },
          "metadata": {},
          "execution_count": 46
        }
      ]
    },
    {
      "cell_type": "code",
      "source": [
        "model= Sequential([\n",
        "    Masking(mask_value= 0.0, input_shape = X_train.shape[1:] ),\n",
        "    LSTM(units = 64, return_sequences= True, activation=\"relu\"),\n",
        "    LSTM(units = 128, return_sequences= True, activation=\"relu\"),\n",
        "    LSTM(units = 64, return_sequences= False,activation=\"relu\"),\n",
        "    Dense(len(label), activation=\"softmax\")\n",
        "])\n",
        "\n",
        "model.compile(optimizer=RMSprop(learning_rate=1e-4), loss=\"categorical_crossentropy\", metrics=[\"accuracy\"])\n",
        "model.summary()"
      ],
      "metadata": {
        "colab": {
          "base_uri": "https://localhost:8080/"
        },
        "id": "BH_Lmng_EWUq",
        "outputId": "081a6524-3f75-4c0f-a99d-215a12803323"
      },
      "execution_count": 47,
      "outputs": [
        {
          "output_type": "stream",
          "name": "stderr",
          "text": [
            "WARNING:tensorflow:Layer lstm_3 will not use cuDNN kernels since it doesn't meet the criteria. It will use a generic GPU kernel as fallback when running on GPU.\n",
            "WARNING:tensorflow:Layer lstm_4 will not use cuDNN kernels since it doesn't meet the criteria. It will use a generic GPU kernel as fallback when running on GPU.\n",
            "WARNING:tensorflow:Layer lstm_5 will not use cuDNN kernels since it doesn't meet the criteria. It will use a generic GPU kernel as fallback when running on GPU.\n"
          ]
        },
        {
          "output_type": "stream",
          "name": "stdout",
          "text": [
            "Model: \"sequential_1\"\n",
            "_________________________________________________________________\n",
            " Layer (type)                Output Shape              Param #   \n",
            "=================================================================\n",
            " masking_1 (Masking)         (None, 100, 1662)         0         \n",
            "                                                                 \n",
            " lstm_3 (LSTM)               (None, 100, 64)           442112    \n",
            "                                                                 \n",
            " lstm_4 (LSTM)               (None, 100, 128)          98816     \n",
            "                                                                 \n",
            " lstm_5 (LSTM)               (None, 64)                49408     \n",
            "                                                                 \n",
            " dense_1 (Dense)             (None, 9)                 585       \n",
            "                                                                 \n",
            "=================================================================\n",
            "Total params: 590921 (2.25 MB)\n",
            "Trainable params: 590921 (2.25 MB)\n",
            "Non-trainable params: 0 (0.00 Byte)\n",
            "_________________________________________________________________\n"
          ]
        }
      ]
    },
    {
      "cell_type": "code",
      "source": [
        "history = model.fit(X_train, y_train, batch_size=32, epochs= 100,  validation_data=(X_val, y_val))"
      ],
      "metadata": {
        "colab": {
          "base_uri": "https://localhost:8080/"
        },
        "id": "32no-2BUFvLS",
        "outputId": "a4d141a6-d38a-42aa-f918-60d0f31dd20e"
      },
      "execution_count": 48,
      "outputs": [
        {
          "output_type": "stream",
          "name": "stdout",
          "text": [
            "Epoch 1/100\n",
            "6/6 [==============================] - 10s 1s/step - loss: 1545.3621 - accuracy: 0.0870 - val_loss: 2347.9209 - val_accuracy: 0.0732\n",
            "Epoch 2/100\n",
            "6/6 [==============================] - 3s 555ms/step - loss: 2065.9849 - accuracy: 0.0870 - val_loss: 3878.1331 - val_accuracy: 0.0732\n",
            "Epoch 3/100\n",
            "6/6 [==============================] - 3s 565ms/step - loss: 3145.3406 - accuracy: 0.0924 - val_loss: 1926.0736 - val_accuracy: 0.0976\n",
            "Epoch 4/100\n",
            "6/6 [==============================] - 4s 745ms/step - loss: 3303.2180 - accuracy: 0.1087 - val_loss: 5323.3394 - val_accuracy: 0.0488\n",
            "Epoch 5/100\n",
            "6/6 [==============================] - 7s 1s/step - loss: 7547.0000 - accuracy: 0.0924 - val_loss: 6032.3076 - val_accuracy: 0.0732\n",
            "Epoch 6/100\n",
            "6/6 [==============================] - 3s 569ms/step - loss: 6729.4185 - accuracy: 0.1141 - val_loss: 5215.4648 - val_accuracy: 0.1463\n",
            "Epoch 7/100\n",
            "6/6 [==============================] - 5s 937ms/step - loss: 5294.2905 - accuracy: 0.1304 - val_loss: 6124.9766 - val_accuracy: 0.1220\n",
            "Epoch 8/100\n",
            "6/6 [==============================] - 4s 564ms/step - loss: 7232.5342 - accuracy: 0.0978 - val_loss: 3109.6028 - val_accuracy: 0.1220\n",
            "Epoch 9/100\n",
            "6/6 [==============================] - 4s 589ms/step - loss: 4622.6709 - accuracy: 0.0652 - val_loss: 3879.5413 - val_accuracy: 0.0732\n",
            "Epoch 10/100\n",
            "6/6 [==============================] - 3s 581ms/step - loss: 4335.8823 - accuracy: 0.1141 - val_loss: 2309.8484 - val_accuracy: 0.1220\n",
            "Epoch 11/100\n",
            "6/6 [==============================] - 6s 898ms/step - loss: 3244.3608 - accuracy: 0.0870 - val_loss: 5050.9751 - val_accuracy: 0.0976\n",
            "Epoch 12/100\n",
            "6/6 [==============================] - 3s 565ms/step - loss: 6269.7905 - accuracy: 0.0815 - val_loss: 3367.6350 - val_accuracy: 0.1220\n",
            "Epoch 13/100\n",
            "6/6 [==============================] - 4s 597ms/step - loss: 6522.6113 - accuracy: 0.1141 - val_loss: 4844.7026 - val_accuracy: 0.0976\n",
            "Epoch 14/100\n",
            "6/6 [==============================] - 6s 1s/step - loss: 10711.6553 - accuracy: 0.1087 - val_loss: 15477.4424 - val_accuracy: 0.0488\n",
            "Epoch 15/100\n",
            "6/6 [==============================] - 3s 580ms/step - loss: 8354.5098 - accuracy: 0.0815 - val_loss: 27515.1367 - val_accuracy: 0.0976\n",
            "Epoch 16/100\n",
            "6/6 [==============================] - 4s 599ms/step - loss: 15711.3604 - accuracy: 0.1304 - val_loss: 10878.4922 - val_accuracy: 0.1220\n",
            "Epoch 17/100\n",
            "6/6 [==============================] - 4s 726ms/step - loss: 8825.1777 - accuracy: 0.1087 - val_loss: 5364.6035 - val_accuracy: 0.1220\n",
            "Epoch 18/100\n",
            "6/6 [==============================] - 5s 753ms/step - loss: 8610.5420 - accuracy: 0.0978 - val_loss: 30910.9883 - val_accuracy: 0.1707\n",
            "Epoch 19/100\n",
            "6/6 [==============================] - 3s 578ms/step - loss: 14564.5342 - accuracy: 0.1141 - val_loss: 57102.2812 - val_accuracy: 0.0244\n",
            "Epoch 20/100\n",
            "6/6 [==============================] - 3s 584ms/step - loss: 10314.5029 - accuracy: 0.0978 - val_loss: 21024.1973 - val_accuracy: 0.0488\n",
            "Epoch 21/100\n",
            "6/6 [==============================] - 6s 1s/step - loss: 9648.1172 - accuracy: 0.0978 - val_loss: 16842.8789 - val_accuracy: 0.0976\n",
            "Epoch 22/100\n",
            "6/6 [==============================] - 3s 565ms/step - loss: 15481.0273 - accuracy: 0.0978 - val_loss: 5885.0044 - val_accuracy: 0.1463\n",
            "Epoch 23/100\n",
            "6/6 [==============================] - 3s 566ms/step - loss: 7942.8989 - accuracy: 0.1033 - val_loss: 5554.6221 - val_accuracy: 0.1463\n",
            "Epoch 24/100\n",
            "6/6 [==============================] - 4s 777ms/step - loss: 6417.1299 - accuracy: 0.1250 - val_loss: 9743.9531 - val_accuracy: 0.0976\n",
            "Epoch 25/100\n",
            "6/6 [==============================] - 5s 705ms/step - loss: 6576.8164 - accuracy: 0.0924 - val_loss: 8993.9180 - val_accuracy: 0.1220\n",
            "Epoch 26/100\n",
            "6/6 [==============================] - 3s 573ms/step - loss: 8394.4961 - accuracy: 0.0761 - val_loss: 5473.4888 - val_accuracy: 0.1220\n",
            "Epoch 27/100\n",
            "6/6 [==============================] - 3s 575ms/step - loss: 12181.5166 - accuracy: 0.0924 - val_loss: 9174.3213 - val_accuracy: 0.0488\n",
            "Epoch 28/100\n",
            "6/6 [==============================] - 6s 1s/step - loss: 12620.0391 - accuracy: 0.0870 - val_loss: 9020.7676 - val_accuracy: 0.0976\n",
            "Epoch 29/100\n",
            "6/6 [==============================] - 4s 762ms/step - loss: 10363.4492 - accuracy: 0.0652 - val_loss: 20750.5938 - val_accuracy: 0.0976\n",
            "Epoch 30/100\n",
            "6/6 [==============================] - 3s 567ms/step - loss: 12170.6748 - accuracy: 0.1033 - val_loss: 11069.7529 - val_accuracy: 0.0732\n",
            "Epoch 31/100\n",
            "6/6 [==============================] - 6s 1s/step - loss: 30162.0605 - accuracy: 0.1196 - val_loss: 7208.8066 - val_accuracy: 0.0976\n",
            "Epoch 32/100\n",
            "6/6 [==============================] - 3s 577ms/step - loss: 13517.4717 - accuracy: 0.0924 - val_loss: 5446.9893 - val_accuracy: 0.0976\n",
            "Epoch 33/100\n",
            "6/6 [==============================] - 3s 584ms/step - loss: 9400.9131 - accuracy: 0.1250 - val_loss: 16067.8564 - val_accuracy: 0.0488\n",
            "Epoch 34/100\n",
            "6/6 [==============================] - 4s 718ms/step - loss: 38593.0664 - accuracy: 0.1250 - val_loss: 8508.3174 - val_accuracy: 0.0732\n",
            "Epoch 35/100\n",
            "6/6 [==============================] - 5s 793ms/step - loss: 12647.0566 - accuracy: 0.1250 - val_loss: 12551.7344 - val_accuracy: 0.0488\n",
            "Epoch 36/100\n",
            "6/6 [==============================] - 3s 567ms/step - loss: 39247.4766 - accuracy: 0.1196 - val_loss: 3441.3538 - val_accuracy: 0.1220\n",
            "Epoch 37/100\n",
            "6/6 [==============================] - 3s 586ms/step - loss: 12769.9170 - accuracy: 0.1087 - val_loss: 17121.6934 - val_accuracy: 0.0976\n",
            "Epoch 38/100\n",
            "6/6 [==============================] - 6s 1s/step - loss: 7101.9468 - accuracy: 0.0978 - val_loss: 7200.2241 - val_accuracy: 0.0976\n",
            "Epoch 39/100\n",
            "6/6 [==============================] - 3s 570ms/step - loss: 12478.8018 - accuracy: 0.1087 - val_loss: 8360.4336 - val_accuracy: 0.1220\n",
            "Epoch 40/100\n",
            "6/6 [==============================] - 3s 577ms/step - loss: 31326.8633 - accuracy: 0.1522 - val_loss: 13586.6338 - val_accuracy: 0.0732\n",
            "Epoch 41/100\n",
            "6/6 [==============================] - 4s 772ms/step - loss: 10356.5146 - accuracy: 0.0652 - val_loss: 4678.4170 - val_accuracy: 0.0732\n",
            "Epoch 42/100\n",
            "6/6 [==============================] - 5s 724ms/step - loss: 8529.8877 - accuracy: 0.1250 - val_loss: 5531.6968 - val_accuracy: 0.0732\n",
            "Epoch 43/100\n",
            "6/6 [==============================] - 4s 595ms/step - loss: 6718.0986 - accuracy: 0.1413 - val_loss: 10335.4863 - val_accuracy: 0.0976\n",
            "Epoch 44/100\n",
            "6/6 [==============================] - 3s 576ms/step - loss: 6814.4795 - accuracy: 0.1141 - val_loss: 23327.0918 - val_accuracy: 0.1463\n",
            "Epoch 45/100\n",
            "6/6 [==============================] - 6s 1s/step - loss: 8332.5068 - accuracy: 0.1087 - val_loss: 14859.0361 - val_accuracy: 0.0976\n",
            "Epoch 46/100\n",
            "6/6 [==============================] - 3s 574ms/step - loss: 9776.2129 - accuracy: 0.0978 - val_loss: 11474.5791 - val_accuracy: 0.0244\n",
            "Epoch 47/100\n",
            "6/6 [==============================] - 3s 571ms/step - loss: 10224.7754 - accuracy: 0.0924 - val_loss: 7338.5830 - val_accuracy: 0.1220\n",
            "Epoch 48/100\n",
            "6/6 [==============================] - 5s 818ms/step - loss: 12395.8057 - accuracy: 0.0924 - val_loss: 6039.4639 - val_accuracy: 0.0976\n",
            "Epoch 49/100\n",
            "6/6 [==============================] - 5s 645ms/step - loss: 10119.3125 - accuracy: 0.0978 - val_loss: 6180.7432 - val_accuracy: 0.1463\n",
            "Epoch 50/100\n",
            "6/6 [==============================] - 3s 580ms/step - loss: 6925.9014 - accuracy: 0.0924 - val_loss: 14242.5156 - val_accuracy: 0.1463\n",
            "Epoch 51/100\n",
            "6/6 [==============================] - 3s 574ms/step - loss: 6437.0693 - accuracy: 0.0707 - val_loss: 4794.0596 - val_accuracy: 0.1707\n",
            "Epoch 52/100\n",
            "6/6 [==============================] - 6s 972ms/step - loss: 20157.5625 - accuracy: 0.0978 - val_loss: 7548.6602 - val_accuracy: 0.0976\n",
            "Epoch 53/100\n",
            "6/6 [==============================] - 3s 585ms/step - loss: 9379.4814 - accuracy: 0.0815 - val_loss: 8899.2881 - val_accuracy: 0.1220\n",
            "Epoch 54/100\n",
            "6/6 [==============================] - 3s 566ms/step - loss: 22610.9355 - accuracy: 0.0870 - val_loss: 5125.9263 - val_accuracy: 0.0732\n",
            "Epoch 55/100\n",
            "6/6 [==============================] - 5s 968ms/step - loss: 26201.1660 - accuracy: 0.1196 - val_loss: 4645.0435 - val_accuracy: 0.2195\n",
            "Epoch 56/100\n",
            "6/6 [==============================] - 3s 563ms/step - loss: 9958.8672 - accuracy: 0.1250 - val_loss: 6388.7964 - val_accuracy: 0.1220\n",
            "Epoch 57/100\n",
            "6/6 [==============================] - 4s 563ms/step - loss: 16505.3594 - accuracy: 0.0652 - val_loss: 8142.6050 - val_accuracy: 0.0488\n",
            "Epoch 58/100\n",
            "6/6 [==============================] - 4s 739ms/step - loss: 12578.5801 - accuracy: 0.1141 - val_loss: 20178.7480 - val_accuracy: 0.1951\n",
            "Epoch 59/100\n",
            "6/6 [==============================] - 5s 783ms/step - loss: 30400.4844 - accuracy: 0.1033 - val_loss: 4430.1094 - val_accuracy: 0.0244\n",
            "Epoch 60/100\n",
            "6/6 [==============================] - 3s 550ms/step - loss: 4717.9966 - accuracy: 0.1304 - val_loss: 14432.8311 - val_accuracy: 0.0488\n",
            "Epoch 61/100\n",
            "6/6 [==============================] - 3s 571ms/step - loss: 13328.9473 - accuracy: 0.1413 - val_loss: 14659.0713 - val_accuracy: 0.0976\n",
            "Epoch 62/100\n",
            "6/6 [==============================] - 6s 1s/step - loss: 17581.1816 - accuracy: 0.0815 - val_loss: 9392.1689 - val_accuracy: 0.0976\n",
            "Epoch 63/100\n",
            "6/6 [==============================] - 6s 1s/step - loss: 17177.9121 - accuracy: 0.1141 - val_loss: 8210.9658 - val_accuracy: 0.1463\n",
            "Epoch 64/100\n",
            "6/6 [==============================] - 3s 585ms/step - loss: 12578.3428 - accuracy: 0.1467 - val_loss: 9089.7002 - val_accuracy: 0.0976\n",
            "Epoch 65/100\n",
            "6/6 [==============================] - 6s 1s/step - loss: 12751.3018 - accuracy: 0.1467 - val_loss: 6474.4878 - val_accuracy: 0.0488\n",
            "Epoch 66/100\n",
            "6/6 [==============================] - 3s 585ms/step - loss: 10758.4609 - accuracy: 0.1250 - val_loss: 12050.9531 - val_accuracy: 0.1463\n",
            "Epoch 67/100\n",
            "6/6 [==============================] - 3s 562ms/step - loss: 10098.6182 - accuracy: 0.0761 - val_loss: 10386.5371 - val_accuracy: 0.0488\n",
            "Epoch 68/100\n",
            "6/6 [==============================] - 5s 866ms/step - loss: 7670.3936 - accuracy: 0.1522 - val_loss: 4443.2476 - val_accuracy: 0.1220\n",
            "Epoch 69/100\n",
            "6/6 [==============================] - 4s 576ms/step - loss: 9202.9922 - accuracy: 0.1141 - val_loss: 5013.8872 - val_accuracy: 0.1463\n",
            "Epoch 70/100\n",
            "6/6 [==============================] - 3s 579ms/step - loss: 8800.3896 - accuracy: 0.1196 - val_loss: 3904.7859 - val_accuracy: 0.1220\n",
            "Epoch 71/100\n",
            "6/6 [==============================] - 3s 572ms/step - loss: 5388.8882 - accuracy: 0.1250 - val_loss: 4431.1919 - val_accuracy: 0.0488\n",
            "Epoch 72/100\n",
            "6/6 [==============================] - 6s 1s/step - loss: 6552.5938 - accuracy: 0.1250 - val_loss: 9497.7314 - val_accuracy: 0.0976\n",
            "Epoch 73/100\n",
            "6/6 [==============================] - 3s 577ms/step - loss: 43219.2305 - accuracy: 0.0978 - val_loss: 6001.1240 - val_accuracy: 0.1463\n",
            "Epoch 74/100\n",
            "6/6 [==============================] - 3s 569ms/step - loss: 8893.7646 - accuracy: 0.1141 - val_loss: 4490.1738 - val_accuracy: 0.1463\n",
            "Epoch 75/100\n",
            "6/6 [==============================] - 5s 899ms/step - loss: 12203.3184 - accuracy: 0.0924 - val_loss: 4532.5933 - val_accuracy: 0.1951\n",
            "Epoch 76/100\n",
            "6/6 [==============================] - 4s 585ms/step - loss: 8232.4590 - accuracy: 0.0870 - val_loss: 5794.2681 - val_accuracy: 0.1707\n",
            "Epoch 77/100\n",
            "6/6 [==============================] - 3s 558ms/step - loss: 9830.3965 - accuracy: 0.1087 - val_loss: 7364.1172 - val_accuracy: 0.0732\n",
            "Epoch 78/100\n",
            "6/6 [==============================] - 3s 559ms/step - loss: 6615.2808 - accuracy: 0.1087 - val_loss: 7254.4771 - val_accuracy: 0.0244\n",
            "Epoch 79/100\n",
            "6/6 [==============================] - 6s 1s/step - loss: 7556.4634 - accuracy: 0.0924 - val_loss: 5296.5356 - val_accuracy: 0.0976\n",
            "Epoch 80/100\n",
            "6/6 [==============================] - 3s 556ms/step - loss: 5948.9907 - accuracy: 0.1250 - val_loss: 5125.4229 - val_accuracy: 0.0488\n",
            "Epoch 81/100\n",
            "6/6 [==============================] - 3s 563ms/step - loss: 9128.3447 - accuracy: 0.1087 - val_loss: 3848.5034 - val_accuracy: 0.0732\n",
            "Epoch 82/100\n",
            "6/6 [==============================] - 5s 887ms/step - loss: 12132.7734 - accuracy: 0.1196 - val_loss: 12797.0195 - val_accuracy: 0.1463\n",
            "Epoch 83/100\n",
            "6/6 [==============================] - 4s 564ms/step - loss: 10450.3574 - accuracy: 0.1033 - val_loss: 6006.6733 - val_accuracy: 0.0976\n",
            "Epoch 84/100\n",
            "6/6 [==============================] - 3s 574ms/step - loss: 20147.5137 - accuracy: 0.1413 - val_loss: 5589.3594 - val_accuracy: 0.0976\n",
            "Epoch 85/100\n",
            "6/6 [==============================] - 3s 580ms/step - loss: 6875.8384 - accuracy: 0.0924 - val_loss: 7665.7256 - val_accuracy: 0.1220\n",
            "Epoch 86/100\n",
            "6/6 [==============================] - 6s 1s/step - loss: 5978.5972 - accuracy: 0.1141 - val_loss: 7093.3354 - val_accuracy: 0.0488\n",
            "Epoch 87/100\n",
            "6/6 [==============================] - 3s 574ms/step - loss: 5988.0713 - accuracy: 0.0543 - val_loss: 5323.5854 - val_accuracy: 0.0488\n",
            "Epoch 88/100\n",
            "6/6 [==============================] - 3s 561ms/step - loss: 5783.4775 - accuracy: 0.0870 - val_loss: 5916.5420 - val_accuracy: 0.0488\n",
            "Epoch 89/100\n",
            "6/6 [==============================] - 5s 959ms/step - loss: 7135.6704 - accuracy: 0.1141 - val_loss: 7749.7529 - val_accuracy: 0.0976\n",
            "Epoch 90/100\n",
            "6/6 [==============================] - 4s 572ms/step - loss: 6517.7373 - accuracy: 0.0815 - val_loss: 5803.3838 - val_accuracy: 0.1707\n",
            "Epoch 91/100\n",
            "6/6 [==============================] - 3s 566ms/step - loss: 7734.4824 - accuracy: 0.0924 - val_loss: 5890.2026 - val_accuracy: 0.1707\n",
            "Epoch 92/100\n",
            "6/6 [==============================] - 4s 621ms/step - loss: 7359.9570 - accuracy: 0.1033 - val_loss: 6350.0815 - val_accuracy: 0.0732\n",
            "Epoch 93/100\n",
            "6/6 [==============================] - 6s 885ms/step - loss: 6248.2622 - accuracy: 0.0978 - val_loss: 6501.4731 - val_accuracy: 0.0976\n",
            "Epoch 94/100\n",
            "6/6 [==============================] - 4s 618ms/step - loss: 5973.8667 - accuracy: 0.1359 - val_loss: 9498.3389 - val_accuracy: 0.0976\n",
            "Epoch 95/100\n",
            "6/6 [==============================] - 3s 571ms/step - loss: 5812.4482 - accuracy: 0.0978 - val_loss: 13863.1191 - val_accuracy: 0.1220\n",
            "Epoch 96/100\n",
            "6/6 [==============================] - 6s 1s/step - loss: 7666.3457 - accuracy: 0.1413 - val_loss: 6590.6675 - val_accuracy: 0.0976\n",
            "Epoch 97/100\n",
            "6/6 [==============================] - 3s 567ms/step - loss: 8692.3770 - accuracy: 0.0761 - val_loss: 6088.6299 - val_accuracy: 0.0976\n",
            "Epoch 98/100\n",
            "6/6 [==============================] - 3s 567ms/step - loss: 6016.9268 - accuracy: 0.1033 - val_loss: 10144.6250 - val_accuracy: 0.0732\n",
            "Epoch 99/100\n",
            "6/6 [==============================] - 4s 720ms/step - loss: 7307.2480 - accuracy: 0.1087 - val_loss: 6317.0010 - val_accuracy: 0.1463\n",
            "Epoch 100/100\n",
            "6/6 [==============================] - 5s 775ms/step - loss: 7671.5854 - accuracy: 0.0815 - val_loss: 8834.7451 - val_accuracy: 0.0732\n"
          ]
        }
      ]
    },
    {
      "cell_type": "code",
      "source": [
        "acc = history.history['accuracy']\n",
        "val_acc = history.history['val_accuracy']\n",
        "loss = history.history['loss']\n",
        "val_loss = history.history['val_loss']\n",
        "\n",
        "epochs = range(1, len(acc)+1)\n",
        "plt.figure(figsize=(14, 5))\n",
        "\n",
        "plt.subplot(1, 2, 1)\n",
        "plt.plot(epochs, acc, \"ro-\", label=\"train accuracy\")\n",
        "plt.plot(epochs, val_acc, \"bo-\", label=\"val accuracy\")\n",
        "plt.xlabel(\"epochs\")\n",
        "plt.ylabel(\"Accuracy\")\n",
        "plt.title(\"Accuracy curve\")\n",
        "plt.legend()\n",
        "plt.grid(True)\n",
        "\n",
        "plt.subplot(1, 2, 2)\n",
        "plt.plot(epochs, loss, \"ro-\")\n",
        "plt.plot(epochs, val_loss, \"bo-\")\n",
        "plt.xlabel(\"epochs\")\n",
        "plt.ylabel(\"loss\")\n",
        "plt.title(\"loss curve\")\n",
        "plt.legend()\n",
        "plt.grid(True)\n",
        "\n",
        "plt.tight_layout()\n",
        "plt.show()"
      ],
      "metadata": {
        "colab": {
          "base_uri": "https://localhost:8080/",
          "height": 391
        },
        "id": "dVWVDWAxXgov",
        "outputId": "dd76ac3d-fe15-4209-8abe-d7465b12a120"
      },
      "execution_count": 49,
      "outputs": [
        {
          "output_type": "stream",
          "name": "stderr",
          "text": [
            "WARNING:matplotlib.legend:No artists with labels found to put in legend.  Note that artists whose label start with an underscore are ignored when legend() is called with no argument.\n"
          ]
        },
        {
          "output_type": "display_data",
          "data": {
            "text/plain": [
              "<Figure size 1400x500 with 2 Axes>"
            ],
            "image/png": "[encoded data removed]"
          },
          "metadata": {}
        }
      ]
    },
    {
      "cell_type": "markdown",
      "metadata": {
        "id": "SjpJcxFxeVFE"
      },
      "source": [
        "# Prediction"
      ]
    },
    {
      "cell_type": "code",
      "source": [
        "model.predict(X_test)"
      ],
      "metadata": {
        "colab": {
          "base_uri": "https://localhost:8080/"
        },
        "id": "7mItYkO_T9PO",
        "outputId": "ea2edb70-3713-4323-b0f2-38527c5a25cc"
      },
      "execution_count": 50,
      "outputs": [
        {
          "output_type": "stream",
          "name": "stdout",
          "text": [
            "1/1 [==============================] - 1s 516ms/step\n"
          ]
        },
        {
          "output_type": "execute_result",
          "data": {
            "text/plain": [
              "array([[0.0000000e+00, 0.0000000e+00, 0.0000000e+00, 0.0000000e+00,\n",
              "        1.0000000e+00, 0.0000000e+00, 0.0000000e+00, 0.0000000e+00,\n",
              "        0.0000000e+00],\n",
              "       [0.0000000e+00, 0.0000000e+00, 0.0000000e+00, 1.0000000e+00,\n",
              "        0.0000000e+00, 0.0000000e+00, 0.0000000e+00, 0.0000000e+00,\n",
              "        0.0000000e+00],\n",
              "       [0.0000000e+00, 0.0000000e+00, 0.0000000e+00, 0.0000000e+00,\n",
              "        0.0000000e+00, 0.0000000e+00, 0.0000000e+00, 1.0000000e+00,\n",
              "        0.0000000e+00],\n",
              "       [0.0000000e+00, 1.0000000e+00, 0.0000000e+00, 0.0000000e+00,\n",
              "        0.0000000e+00, 0.0000000e+00, 0.0000000e+00, 0.0000000e+00,\n",
              "        0.0000000e+00],\n",
              "       [0.0000000e+00, 0.0000000e+00, 0.0000000e+00, 0.0000000e+00,\n",
              "        1.0000000e+00, 0.0000000e+00, 0.0000000e+00, 0.0000000e+00,\n",
              "        0.0000000e+00],\n",
              "       [0.0000000e+00, 0.0000000e+00, 0.0000000e+00, 0.0000000e+00,\n",
              "        0.0000000e+00, 0.0000000e+00, 0.0000000e+00, 1.0000000e+00,\n",
              "        0.0000000e+00],\n",
              "       [0.0000000e+00, 0.0000000e+00, 0.0000000e+00, 0.0000000e+00,\n",
              "        1.0000000e+00, 0.0000000e+00, 0.0000000e+00, 0.0000000e+00,\n",
              "        0.0000000e+00],\n",
              "       [0.0000000e+00, 0.0000000e+00, 0.0000000e+00, 0.0000000e+00,\n",
              "        0.0000000e+00, 1.0000000e+00, 0.0000000e+00, 0.0000000e+00,\n",
              "        0.0000000e+00],\n",
              "       [0.0000000e+00, 0.0000000e+00, 0.0000000e+00, 0.0000000e+00,\n",
              "        0.0000000e+00, 1.0000000e+00, 0.0000000e+00, 0.0000000e+00,\n",
              "        0.0000000e+00],\n",
              "       [0.0000000e+00, 0.0000000e+00, 0.0000000e+00, 1.0000000e+00,\n",
              "        0.0000000e+00, 0.0000000e+00, 0.0000000e+00, 0.0000000e+00,\n",
              "        0.0000000e+00],\n",
              "       [0.0000000e+00, 1.0000000e+00, 0.0000000e+00, 0.0000000e+00,\n",
              "        0.0000000e+00, 0.0000000e+00, 0.0000000e+00, 0.0000000e+00,\n",
              "        0.0000000e+00],\n",
              "       [0.0000000e+00, 1.0000000e+00, 0.0000000e+00, 0.0000000e+00,\n",
              "        0.0000000e+00, 0.0000000e+00, 0.0000000e+00, 0.0000000e+00,\n",
              "        0.0000000e+00],\n",
              "       [0.0000000e+00, 0.0000000e+00, 2.6415125e-07, 9.9999976e-01,\n",
              "        0.0000000e+00, 0.0000000e+00, 0.0000000e+00, 3.8747466e-38,\n",
              "        0.0000000e+00],\n",
              "       [0.0000000e+00, 0.0000000e+00, 0.0000000e+00, 2.1997928e-10,\n",
              "        1.0000000e+00, 0.0000000e+00, 0.0000000e+00, 0.0000000e+00,\n",
              "        0.0000000e+00],\n",
              "       [0.0000000e+00, 0.0000000e+00, 0.0000000e+00, 0.0000000e+00,\n",
              "        0.0000000e+00, 0.0000000e+00, 0.0000000e+00, 1.0000000e+00,\n",
              "        0.0000000e+00],\n",
              "       [0.0000000e+00, 0.0000000e+00, 0.0000000e+00, 1.0000000e+00,\n",
              "        0.0000000e+00, 0.0000000e+00, 0.0000000e+00, 0.0000000e+00,\n",
              "        0.0000000e+00],\n",
              "       [1.0000000e+00, 0.0000000e+00, 0.0000000e+00, 0.0000000e+00,\n",
              "        0.0000000e+00, 0.0000000e+00, 0.0000000e+00, 0.0000000e+00,\n",
              "        0.0000000e+00],\n",
              "       [0.0000000e+00, 0.0000000e+00, 0.0000000e+00, 1.0000000e+00,\n",
              "        0.0000000e+00, 0.0000000e+00, 0.0000000e+00, 0.0000000e+00,\n",
              "        0.0000000e+00],\n",
              "       [6.2057204e-12, 3.0828086e-19, 2.2892998e-32, 1.9082344e-24,\n",
              "        1.0000000e+00, 0.0000000e+00, 3.4426628e-13, 0.0000000e+00,\n",
              "        5.3532678e-16],\n",
              "       [0.0000000e+00, 1.0000000e+00, 0.0000000e+00, 0.0000000e+00,\n",
              "        0.0000000e+00, 0.0000000e+00, 0.0000000e+00, 4.2840239e-27,\n",
              "        0.0000000e+00],\n",
              "       [0.0000000e+00, 0.0000000e+00, 0.0000000e+00, 0.0000000e+00,\n",
              "        1.0000000e+00, 0.0000000e+00, 0.0000000e+00, 0.0000000e+00,\n",
              "        0.0000000e+00],\n",
              "       [0.0000000e+00, 0.0000000e+00, 0.0000000e+00, 1.0000000e+00,\n",
              "        0.0000000e+00, 0.0000000e+00, 0.0000000e+00, 0.0000000e+00,\n",
              "        0.0000000e+00],\n",
              "       [0.0000000e+00, 0.0000000e+00, 0.0000000e+00, 1.0000000e+00,\n",
              "        0.0000000e+00, 0.0000000e+00, 0.0000000e+00, 0.0000000e+00,\n",
              "        0.0000000e+00],\n",
              "       [0.0000000e+00, 1.2763606e-19, 0.0000000e+00, 0.0000000e+00,\n",
              "        1.1574371e-18, 0.0000000e+00, 0.0000000e+00, 1.0000000e+00,\n",
              "        0.0000000e+00],\n",
              "       [0.0000000e+00, 0.0000000e+00, 0.0000000e+00, 0.0000000e+00,\n",
              "        0.0000000e+00, 0.0000000e+00, 0.0000000e+00, 1.0000000e+00,\n",
              "        0.0000000e+00],\n",
              "       [0.0000000e+00, 0.0000000e+00, 1.0000000e+00, 0.0000000e+00,\n",
              "        0.0000000e+00, 0.0000000e+00, 0.0000000e+00, 0.0000000e+00,\n",
              "        0.0000000e+00],\n",
              "       [0.0000000e+00, 0.0000000e+00, 0.0000000e+00, 0.0000000e+00,\n",
              "        0.0000000e+00, 0.0000000e+00, 0.0000000e+00, 1.0000000e+00,\n",
              "        0.0000000e+00],\n",
              "       [0.0000000e+00, 0.0000000e+00, 0.0000000e+00, 0.0000000e+00,\n",
              "        0.0000000e+00, 0.0000000e+00, 0.0000000e+00, 1.0000000e+00,\n",
              "        0.0000000e+00],\n",
              "       [0.0000000e+00, 0.0000000e+00, 0.0000000e+00, 0.0000000e+00,\n",
              "        0.0000000e+00, 1.0000000e+00, 0.0000000e+00, 0.0000000e+00,\n",
              "        0.0000000e+00],\n",
              "       [0.0000000e+00, 0.0000000e+00, 0.0000000e+00, 0.0000000e+00,\n",
              "        1.0000000e+00, 0.0000000e+00, 0.0000000e+00, 0.0000000e+00,\n",
              "        2.9491793e-09],\n",
              "       [0.0000000e+00, 0.0000000e+00, 0.0000000e+00, 1.0000000e+00,\n",
              "        0.0000000e+00, 0.0000000e+00, 0.0000000e+00, 0.0000000e+00,\n",
              "        0.0000000e+00],\n",
              "       [0.0000000e+00, 0.0000000e+00, 0.0000000e+00, 1.0000000e+00,\n",
              "        0.0000000e+00, 0.0000000e+00, 0.0000000e+00, 0.0000000e+00,\n",
              "        0.0000000e+00]], dtype=float32)"
            ]
          },
          "metadata": {},
          "execution_count": 50
        }
      ]
    },
    {
      "cell_type": "code",
      "source": [
        "model.evaluate(X_test, y_test)"
      ],
      "metadata": {
        "colab": {
          "base_uri": "https://localhost:8080/"
        },
        "id": "RZsEb5g9T_rt",
        "outputId": "107ac7da-8746-4971-9b18-5aa6cf216739"
      },
      "execution_count": 51,
      "outputs": [
        {
          "output_type": "stream",
          "name": "stdout",
          "text": [
            "1/1 [==============================] - 0s 87ms/step - loss: 4781.6587 - accuracy: 0.1250\n"
          ]
        },
        {
          "output_type": "execute_result",
          "data": {
            "text/plain": [
              "[4781.65869140625, 0.125]"
            ]
          },
          "metadata": {},
          "execution_count": 51
        }
      ]
    },
    {
      "cell_type": "code",
      "source": [
        "def pipeline(video_path):\n",
        "  out= process_video(video_path)\n",
        "  predict = model.predict(out.reshape(1, out.shape[0], out.shape[1]))\n",
        "  predict = label[np.argmax(predict)]\n",
        "  return predict"
      ],
      "metadata": {
        "id": "wHgPMmmETXle"
      },
      "execution_count": 52,
      "outputs": []
    },
    {
      "cell_type": "code",
      "source": [
        "video_path = \"video_data/val/computer/12335.mp4\"\n",
        "print(pipeline(video_path))"
      ],
      "metadata": {
        "colab": {
          "base_uri": "https://localhost:8080/"
        },
        "id": "ZknddMVFaC-R",
        "outputId": "a4bc97d2-37f5-43a4-852b-00c5370670da"
      },
      "execution_count": 53,
      "outputs": [
        {
          "output_type": "stream",
          "name": "stderr",
          "text": [
            "/usr/local/lib/python3.10/dist-packages/google/protobuf/symbol_database.py:55: UserWarning: SymbolDatabase.GetPrototype() is deprecated. Please use message_factory.GetMessageClass() instead. SymbolDatabase.GetPrototype() will be removed soon.\n",
            "  warnings.warn('SymbolDatabase.GetPrototype() is deprecated. Please '\n"
          ]
        },
        {
          "output_type": "stream",
          "name": "stdout",
          "text": [
            "1/1 [==============================] - 1s 730ms/step\n",
            "computer\n"
          ]
        }
      ]
    },
    {
      "cell_type": "code",
      "source": [
        "model.save(\"sign_model.h5\")"
      ],
      "metadata": {
        "colab": {
          "base_uri": "https://localhost:8080/"
        },
        "id": "FqrnPSjKcoFZ",
        "outputId": "9db66076-7e7b-4061-ad00-2e7f3ffe358a"
      },
      "execution_count": 54,
      "outputs": [
        {
          "output_type": "stream",
          "name": "stderr",
          "text": [
            "/usr/local/lib/python3.10/dist-packages/keras/src/engine/training.py:3103: UserWarning: You are saving your model as an HDF5 file via `model.save()`. This file format is considered legacy. We recommend using instead the native Keras format, e.g. `model.save('my_model.keras')`.\n",
            "  saving_api.save_model(\n"
          ]
        }
      ]
    },
    {
      "cell_type": "code",
      "source": [
        "ls"
      ],
      "metadata": {
        "colab": {
          "base_uri": "https://localhost:8080/"
        },
        "id": "iUB8QBQ_Erfh",
        "outputId": "ec283881-875c-4ce9-bc51-4657020d937a"
      },
      "execution_count": null,
      "outputs": [
        {
          "output_type": "stream",
          "name": "stdout",
          "text": [
            " 0.npy\n",
            " output_video.mp4\n",
            " real_time_sign_language_to_text.ipynb\n",
            "'Real_time_signlanguage_to_text LSTM& CNN.ipynb'\n",
            " sign_model.h5\n",
            " \u001b[0m\u001b[01;34mvideo_data\u001b[0m/\n",
            "'Visual Transformers Real Time SIgn language Translator.ipynb'\n",
            " wlasl2000-resized.zip\n",
            " \u001b[01;34mwlasl-complete\u001b[0m/\n",
            " WLASL_v0.3.json\n",
            " WLASL_v0.3.json.zip\n",
            " word_classes.txt\n"
          ]
        }
      ]
    },
    {
      "cell_type": "code",
      "source": [
        "model_load = tf.keras.models.load_model(\"sign_model.h5\")\n",
        "model_load.summary()"
      ],
      "metadata": {
        "colab": {
          "base_uri": "https://localhost:8080/"
        },
        "id": "cLIrRXBcEuSe",
        "outputId": "020e31c0-1252-4359-83fb-e278359c6a4a"
      },
      "execution_count": null,
      "outputs": [
        {
          "output_type": "stream",
          "name": "stderr",
          "text": [
            "WARNING:tensorflow:Layer lstm will not use cuDNN kernels since it doesn't meet the criteria. It will use a generic GPU kernel as fallback when running on GPU.\n",
            "WARNING:tensorflow:Layer lstm_1 will not use cuDNN kernels since it doesn't meet the criteria. It will use a generic GPU kernel as fallback when running on GPU.\n",
            "WARNING:tensorflow:Layer lstm_2 will not use cuDNN kernels since it doesn't meet the criteria. It will use a generic GPU kernel as fallback when running on GPU.\n"
          ]
        },
        {
          "output_type": "stream",
          "name": "stdout",
          "text": [
            "Model: \"sequential\"\n",
            "_________________________________________________________________\n",
            " Layer (type)                Output Shape              Param #   \n",
            "=================================================================\n",
            " masking (Masking)           (None, 155, 1662)         0         \n",
            "                                                                 \n",
            " lstm (LSTM)                 (None, 155, 64)           442112    \n",
            "                                                                 \n",
            " lstm_1 (LSTM)               (None, 155, 128)          98816     \n",
            "                                                                 \n",
            " lstm_2 (LSTM)               (None, 64)                49408     \n",
            "                                                                 \n",
            " dense (Dense)               (None, 3)                 195       \n",
            "                                                                 \n",
            "=================================================================\n",
            "Total params: 590531 (2.25 MB)\n",
            "Trainable params: 590531 (2.25 MB)\n",
            "Non-trainable params: 0 (0.00 Byte)\n",
            "_________________________________________________________________\n"
          ]
        }
      ]
    },
    {
      "cell_type": "markdown",
      "metadata": {
        "id": "AZRdof_4eXoA"
      },
      "source": [
        "# Real Time Prediction"
      ]
    }
  ],
  "metadata": {
    "colab": {
      "collapsed_sections": [
        "NZGJ7l_LeitR",
        "osIfcVGXemsj",
        "q6DFfa6peq6q",
        "500xAjB-d8y4",
        "Mq_dVe85eG3r",
        "8Qpp9eu9eObE",
        "EWhdS17NeSTV",
        "SjpJcxFxeVFE",
        "AZRdof_4eXoA"
      ],
      "provenance": [],
      "gpuType": "T4"
    },
    "kernelspec": {
      "display_name": "Python 3",
      "name": "python3"
    },
    "language_info": {
      "name": "python"
    },
    "accelerator": "GPU"
  },
  "nbformat": 4,
  "nbformat_minor": 0
}